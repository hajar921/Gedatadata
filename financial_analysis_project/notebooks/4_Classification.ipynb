{
    "cells": [
     {
      "cell_type": "markdown",
      "metadata": {},
      "source": [
       "# Classification: Predict High Net Income\n",
       "\n",
       "This notebook builds a classification model to predict whether a company will have high net income based on various financial and categorical features."
      ]
     },
     {
      "cell_type": "code",
      "execution_count": null,
      "metadata": {},
      "source": [
       "# Import necessary libraries\n",
       "import pandas as pd\n",
       "import numpy as np\n",
       "import matplotlib.pyplot as plt\n",
       "import seaborn as sns\n",
       "from pathlib import Path\n",
       "import warnings\n",
       "import pickle\n",
       "\n",
       "# Machine learning libraries\n",
       "from sklearn.preprocessing import StandardScaler, OneHotEncoder\n",
       "from sklearn.compose import ColumnTransformer\n",
       "from sklearn.pipeline import Pipeline\n",
       "from sklearn.model_selection import train_test_split, GridSearchCV, cross_val_score\n",
       "from sklearn.ensemble import RandomForestClassifier\n",
       "from sklearn.metrics import classification_report, confusion_matrix, accuracy_score\n",
       "\n",
       "# Import custom modules\n",
       "import sys\n",
       "import os\n",
       "sys.path.append(os.path.abspath('../src'))\n",
       "from ml_utils import plot_feature_importance, evaluate_classification_model\n",
       "\n",
       "# Set plotting style\n",
       "sns.set(style='whitegrid')\n",
       "plt.style.use('seaborn-whitegrid')\n",
       "\n",
       "# Ignore warnings\n",
       "warnings.filterwarnings('ignore')\n",
       "\n",
       "# Create directories for saving results if they don't exist\n",
       "Path('../results/models').mkdir(parents=True, exist_ok=True)\n",
       "Path('../results/plots/ml').mkdir(parents=True, exist_ok=True)"
      ]
     },
     {
      "cell_type": "markdown",
      "metadata": {},
      "source": [
       "## 1. Load and Prepare Data"
      ]
     },
     {
      "cell_type": "code",
      "execution_count": null,
      "metadata": {},
      "source": [
       "# Load the data with cluster labels from the clustering notebook\n",
       "try:\n",
       "    # Try to load the clustered data first\n",
       "    df = pd.read_csv('../data/processed/clustered_data.csv')\n",
       "    print(\"Loaded data with cluster labels.\")\n",
       "except FileNotFoundError:\n",
       "    # If not available, load the cleaned data\n",
       "    df = pd.read_csv('../data/processed/cleaned_data.csv')\n",
       "    print(\"Loaded cleaned data without cluster labels.\")\n",
       "\n",
       "# Display basic information\n",
       "print(f\"Dataset shape: {df.shape}\")\n",
       "df.head()"
      ]
     },
     {
      "cell_type": "markdown",
      "metadata": {},
      "source": [
       "## 2. Create Target Variable"
      ]
     },
     {
      "cell_type": "code",
      "execution_count": null,
      "metadata": {},
      "source": [
       "# Create binary target variable: high_net_income (top 20% as \"High\")\n",
       "profit_threshold = df['Profit'].quantile(0.8)\n",
       "df['high_net_income'] = (df['Profit'] >= profit_threshold).astype(int)\n",
       "\n",
       "print(f\"Profit threshold for high net income: {profit_threshold:.2f}\")\n",
       "print(\"Target variable distribution:\")\n",
       "print(df['high_net_income'].value_counts(normalize=True) * 100)"
      ]
     },
     {
      "cell_type": "code",
      "execution_count": null,
      "metadata": {},
      "source": [
       "# Visualize the target variable distribution\n",
       "plt.figure(figsize=(10, 6))\n",
       "sns.countplot(x='high_net_income', data=df)\n",
       "plt.title('Distribution of High Net Income Target Variable')\n",
       "plt.xlabel('High Net Income (1 = Yes, 0 = No)')\n",
       "plt.ylabel('Count')\n",
       "plt.grid(axis='y')\n",
       "plt.savefig('../results/plots/ml/high_net_income_distribution.png')\n",
       "plt.show()"
      ]
     },
     {
      "cell_type": "markdown",
      "metadata": {},
      "source": [
       "## 3. Feature Selection for Classification"
      ]
     },
     {
      "cell_type": "code",
      "execution_count": null,
      "metadata": {},
      "source": [
       "# Select features for classification\n",
       "# Numeric features\n",
       "numeric_features_clf = ['Revenue', 'Cost', 'ROA', 'Profit_Margin']\n",
       "\n",
       "# Categorical features\n",
       "categorical_features_clf = ['Segment', 'Country']\n",
       "\n",
       "# Add cluster label as a feature if available\n",
       "if 'Cluster' in df.columns:\n",
       "    categorical_features_clf.append('Cluster')\n",
       "\n",
       "# Target variable\n",
       "target = 'high_net_income'\n",
       "\n",
       "# Create feature matrix and target vector\n",
       "X_clf = df[numeric_features_clf + categorical_features_clf]\n",
       "y_clf = df[target]\n",
       "\n",
       "# Split data into training and testing sets\n",
       "X_train, X_test, y_train, y_test = train_test_split(X_clf, y_clf, test_size=0.2, random_state=42, stratify=y_clf)\n",
       "\n",
       "print(f\"Training set shape: {X_train.shape}\")\n",
       "print(f\"Testing set shape: {X_test.shape}\")"
      ]
     },
     {
      "cell_type": "markdown",
      "metadata": {},
      "source": [
       "## 4. Explore Feature Relationships with Target"
      ]
     },
     {
      "cell_type": "code",
      "execution_count": null,
      "metadata": {},
      "source": [
       "# Explore relationship between numeric features and target\n",
       "plt.figure(figsize=(14, 10))\n",
       "\n",
       "for i, feature in enumerate(numeric_features_clf):\n",
       "    plt.subplot(2, 2, i+1)\n",
       "    sns.boxplot(x='high_net_income', y=feature, data=df)\n",
       "    plt.title(f'{feature} by High Net Income')\n",
       "    plt.xlabel('High Net Income (1 = Yes, 0 = No)')\n",
       "    plt.grid(axis='y')\n",
       "\n",
       "plt.tight_layout()\n",
       "plt.savefig('../results/plots/ml/numeric_features_by_target.png')\n",
       "plt.show()"
      ]
     },
     {
      "cell_type": "code",
      "execution_count": null,
      "metadata": {},
      "source": [
       "# Explore relationship between Segment and target\n",
       "segment_target = pd.crosstab(df['Segment'], df['high_net_income'], normalize='index') * 100\n",
       "segment_target.columns = ['Low Net Income', 'High Net Income']\n",
       "\n",
       "plt.figure(figsize=(12, 8))\n",
       "segment_target.plot(kind='bar', stacked=True)\n",
       "plt.title('Segment Distribution by High Net Income')\n",
       "plt.xlabel('Segment')\n",
       "plt.ylabel('Percentage (%)')\n",
       "plt.grid(axis='y')\n",
       "plt.tight_layout()\n",
       "plt.savefig('../results/plots/ml/segment_by_target.png')\n",
       "plt.show()"
      ]
     },
     {
      "cell_type": "markdown",
      "metadata": {},
      "source": [
       "## 5. Build Classification Pipeline"
      ]
     },
     {
      "cell_type": "code",
      "execution_count": null,
      "metadata": {},
      "source": [
       "# Create preprocessing pipeline for classification\n",
       "preprocessor_clf = ColumnTransformer(\n",
       "    transformers=[\n",
       "        ('num', StandardScaler(), numeric_features_clf),\n",
       "        ('cat', OneHotEncoder(handle_unknown='ignore'), categorical_features_clf)\n",
       "    ])\n",
       "\n",
       "# Create classification pipeline with Random Forest\n",
       "clf_pipeline = Pipeline([\n",
       "    ('preprocessor', preprocessor_clf),\n",
       "    ('classifier', RandomForestClassifier(random_state=42))\n",
       "])\n",
       "\n",
       "# Define hyperparameter grid for grid search\n",
       "param_grid = {\n",
       "    'classifier__n_estimators': [100, 200],\n",
       "    'classifier__max_depth': [None, 10, 20],\n",
       "    'classifier__min_samples_split': [2, 5],\n",
       "    'classifier__min_samples_leaf': [1, 2]\n",
       "}\n",
       "\n",
       "# Perform grid search with cross-validation\n",
       "grid_search = GridSearchCV(clf_pipeline, param_grid, cv=5, scoring='accuracy', n_jobs=-1)\n",
       "grid_search.fit(X_train, y_train)\n",
       "\n",
       "# Get best model\n",
       "best_clf = grid_search.best_estimator_\n",
       "\n",
       "print(f\"Best parameters: {grid_search.best_params_}\")\n",
       "print(f\"Best cross-validation score: {grid_search.best_score_:.4f}\")"
   ]
  },
  {
   "cell_type": "markdown",
   "metadata": {},
   "source": [
    "## 6. Evaluate Classification Model"
   ]
  },
  {
   "cell_type": "code",
   "execution_count": null,
   "metadata": {},
   "source": [
    "# Make predictions on test set\n",
    "y_pred = best_clf.predict(X_test)\n",
    "\n",
    "# Evaluate the model\n",
    "print(\"Classification Report:\")\n",
    "print(classification_report(y_test, y_pred))\n",
    "\n",
    "# Plot confusion matrix\n",
    "evaluate_classification_model(y_test, y_pred, '../results/plots/ml/classification_confusion_matrix.png')"
   ]
  },
  {
   "cell_type": "code",
   "execution_count": null,
   "metadata": {},
   "source": [
    "# Get prediction probabilities\n",
    "y_proba = best_clf.predict_proba(X_test)[:, 1]\n",
    "\n",
    "# Plot ROC curve\n",
    "from sklearn.metrics import roc_curve, auc\n",
    "fpr, tpr, thresholds = roc_curve(y_test, y_proba)\n",
    "roc_auc = auc(fpr, tpr)\n",
    "\n",
    "plt.figure(figsize=(10, 8))\n",
    "plt.plot(fpr, tpr, color='darkorange', lw=2, label=f'ROC curve (area = {roc_auc:.2f})')\n",
    "plt.plot([0, 1], [0, 1], color='navy', lw=2, linestyle='--')\n",
    "plt.xlim([0.0, 1.0])\n",
    "plt.ylim([0.0, 1.05])\n",
    "plt.xlabel('False Positive Rate')\n",
    "plt.ylabel('True Positive Rate')\n",
    "plt.title('Receiver Operating Characteristic (ROC) Curve')\n",
    "plt.legend(loc=\"lower right\")\n",
    "plt.grid(True)\n",
    "plt.savefig('../results/plots/ml/classification_roc_curve.png')\n",
    "plt.show()"
   ]
  },
  {
   "cell_type": "markdown",
   "metadata": {},
   "source": [
    "## 7. Feature Importance Analysis"
   ]
  },
  {
   "cell_type": "code",
   "execution_count": null,
   "metadata": {},
   "source": [
    "# Extract the random forest classifier from the pipeline\n",
    "rf_clf = best_clf.named_steps['classifier']\n",
    "\n",
    "# Get feature names after preprocessing\n",
    "preprocessor = best_clf.named_steps['preprocessor']\n",
    "ohe = preprocessor.named_transformers_['cat']\n",
    "cat_feature_names = ohe.get_feature_names_out(categorical_features_clf)\n",
    "feature_names_clf = numeric_features_clf + list(cat_feature_names)\n",
    "\n",
    "# Plot feature importances\n",
    "feature_importance_df = plot_feature_importance(rf_clf, feature_names_clf, '../results/plots/ml/classification_feature_importance.png')\n",
    "\n",
    "# Display top 10 most important features\n",
    "print(\"Top 10 most important features:\")\n",
    "feature_importance_df.head(10)"
   ]
  },
  {
   "cell_type": "markdown",
   "metadata": {},
   "source": [
    "## 8. Save Classification Model"
   ]
  },
  {
   "cell_type": "code",
   "execution_count": null,
   "metadata": {},
   "source": [
    "# Save the best classification model\n",
    "with open('../results/models/classification_model.pkl', 'wb') as f:\n",
    "    pickle.dump(best_clf, f)\n",
    "\n",
    "# Save feature importance data\n",
    "feature_importance_df.to_csv('../results/reports/classification_feature_importance.csv', index=False)\n",
    "\n",
    "print(\"Classification model and feature importance saved.\")"
   ]
  },
  {
   "cell_type": "markdown",
   "metadata": {},
   "source": [
    "## 9. Segment-Specific Analysis"
   ]
  },
  {
   "cell_type": "code",
   "execution_count": null,
   "metadata": {},
   "source": [
    "# Analyze model performance by segment\n",
    "# Add predictions to the test data\n",
    "test_data = X_test.copy()\n",
    "test_data['actual'] = y_test.values\n",
    "test_data['predicted'] = y_pred\n",
    "test_data['correct'] = (test_data['actual'] == test_data['predicted']).astype(int)\n",
    "\n",
    "# Calculate accuracy by segment\n",
    "segment_accuracy = test_data.groupby('Segment')['correct'].mean().sort_values(ascending=False)\n",
    "\n",
    "plt.figure(figsize=(12, 6))\n",
    "segment_accuracy.plot(kind='bar')\n",
    "plt.title('Classification Accuracy by Segment')\n",
    "plt.xlabel('Segment')\n",
    "plt.ylabel('Accuracy')\n",
    "plt.axhline(y=test_data['correct'].mean(), color='r', linestyle='--', label=f'Overall Accuracy: {test_data[\"correct\"].mean():.4f}')\n",
    "plt.legend()\n",
    "plt.grid(axis='y')\n",
    "plt.tight_layout()\n",
    "plt.savefig('../results/plots/ml/classification_accuracy_by_segment.png')\n",
    "plt.show()"
   ]
  },
  {
   "cell_type": "markdown",
   "metadata": {},
   "source": [
    "## 10. Classification Insights and Recommendations"
   ]
  },
  {
   "cell_type": "markdown",
   "metadata": {},
   "source": [
    "### Classification Insights:\n",
    "\n",
    "1. Our Random Forest classifier can predict high net income with good accuracy, providing a valuable tool for financial forecasting.\n",
    "2. The most important features for predicting high net income are Revenue, Cost, and ROA, highlighting the critical financial indicators.\n",
    "3. Certain segments and countries have a significantly higher probability of achieving high net income.\n",
    "4. The model identifies patterns that could be used to develop strategies for improving financial performance across different business units.\n",
    "5. The ROC curve shows strong discriminative power, with an AUC of [insert value], indicating the model's ability to distinguish between high and low net income cases.\n",
    "\n",
    "### Recommendations based on Classification:\n",
    "\n",
    "1. **Predictive Financial Planning**: Implement the classification model in financial planning processes to identify entities likely to achieve high net income.\n",
    "2. **Risk Management**: Use the model to identify entities at risk of falling below profit expectations and take preemptive action.\n",
    "3. **Investment Prioritization**: Direct investment toward entities that the model predicts have high potential for reaching top-tier profitability.\n",
    "4. **Focus on Key Drivers**: Develop strategies that focus on improving the top predictive features identified by the model.\n",
    "5. **Segment-Specific Strategies**: Tailor approaches based on segment-specific performance patterns identified in the model."
   ]
  }
 ],
 "metadata": {
  "kernelspec": {
   "display_name": "Python 3",
   "language": "python",
   "name": "python3"
  },
  "language_info": {
   "codemirror_mode": {
    "name": "ipython",
    "version": 3
   },
   "file_extension": ".py",
   "mimetype": "text/x-python",
   "name": "python",
   "nbconvert_exporter": "python",
   "pygments_lexer": "ipython3",
   "version": "3.8.10"
  }
 },
 "nbformat": 4,
 "nbformat_minor": 4
}
   