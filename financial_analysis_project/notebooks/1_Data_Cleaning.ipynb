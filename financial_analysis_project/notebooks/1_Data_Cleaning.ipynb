{
 "cells": [
  {
   "cell_type": "markdown",
   "metadata": {},
   "source": [
    "# Data Cleaning & Preprocessing\n",
    "\n",
    "This notebook focuses on cleaning and preprocessing the raw financial data to prepare it for analysis."
   ]
  },
  {
   "cell_type": "code",
   "execution_count": null,
   "metadata": {},
   "outputs": [],
   "source": [
    "import pandas as pd\n",
    "import numpy as np\n",
    "import matplotlib.pyplot as plt\n",
    "import seaborn as sns\n",
    "import sys\n",
    "import os\n",
    "\n",
    "# Add the src directory to the path\n",
    "sys.path.append(os.path.abspath('../src'))\n",
    "\n",
    "# Import custom modules\n",
    "from data_loader import load_raw_data, clean_financial_data, save_cleaned_data"
   ]
  },
  {
   "cell_type": "markdown",
   "metadata": {},
   "source": [
    "## 1. Load and Inspect Raw Data"
   ]
  },
  {
   "cell_type": "code",
   "execution_count": null,
   "metadata": {},
   "outputs": [],
   "source": [
    "# Load raw data\n",
    "raw_data_path = '../data/raw/financial_data.csv'\n",
    "df_raw = load_raw_data(raw_data_path)\n",
    "\n",
    "# Display basic information\n",
    "print(\"\\nDataset Shape:\")\n",
    "print(df_raw.shape)\n",
    "\n",
    "print(\"\\nColumn Names:\")\n",
    "print(df_raw.columns.tolist())\n",
    "\n",
    "print(\"\\nData Types:\")\n",
    "print(df_raw.dtypes)\n",
    "\n",
    "print(\"\\nFirst 5 rows:\")\n",
    "df_raw.head()"
   ]
  },
  {
   "cell_type": "markdown",
   "metadata": {},
   "source": [
    "## 2. Check for Missing Values"
   ]
  },
  {
   "cell_type": "code",
   "execution_count": null,
   "metadata": {},
   "outputs": [],
   "source": [
    "# Check for missing values\n",
    "missing_values = df_raw.isnull().sum()\n",
    "missing_percentage = (missing_values / len(df_raw)) * 100\n",
    "\n",
    "missing_df = pd.DataFrame({\n",
    "    'Missing Values': missing_values,\n",
    "    'Percentage': missing_percentage\n",
    "})\n",
    "\n",
    "print(\"Missing Values Summary:\")\n",
    "missing_df[missing_df['Missing Values'] > 0]"
   ]
  },
  {
   "cell_type": "markdown",
   "metadata": {},
   "source": [
    "## 3. Check for Inconsistent Values"
   ]
  },
  {
   "cell_type": "code",
   "execution_count": null,
   "metadata": {},
   "outputs": [],
   "source": [
    "# Check for placeholder values like '-', 'None', etc.\n",
    "def check_placeholders(df, placeholders=['-', 'None', 'NaN', 'nan', 'NULL']):\n",
    "    placeholder_counts = {}\n",
    "    \n",
    "    for col in df.columns:\n",
    "        for placeholder in placeholders:\n",
    "            count = (df[col] == placeholder).sum()\n",
    "            if count > 0:\n",
    "                if col not in placeholder_counts:\n",
    "                    placeholder_counts[col] = {}\n",
    "                placeholder_counts[col][placeholder] = count\n",
    "    \n",
    "    return placeholder_counts\n",
    "\n",
    "placeholder_counts = check_placeholders(df_raw)\n",
    "print(\"Placeholder Values Found:\")\n",
    "for col, counts in placeholder_counts.items():\n",
    "    print(f\"\\n{col}:\")\n",
    "    for placeholder, count in counts.items():\n",
    "        print(f\"  {placeholder}: {count}\")"
   ]
  },
  {
   "cell_type": "code",
   "execution_count": null,
   "metadata": {},
   "outputs": [],
   "source": [
    "# Check for inconsistent categorical values\n",
    "categorical_columns = df_raw.select_dtypes(include=['object']).columns\n",
    "\n",
    "print(\"\\nUnique values in categorical columns:\")\n",
    "for col in categorical_columns:\n",
    "    print(f\"\\n{col}:\")\n",
    "    print(df_raw[col].value_counts().head(10))"
   ]
  },
  {
   "cell_type": "code",
   "execution_count": null,
   "metadata": {},
   "outputs": [],
   "source": [
    "# Check for inconsistent currency formatting\n",
    "def check_currency_format(df, columns):\n",
    "    for col in columns:\n",
    "        if col in df.columns:\n",
    "            # Check for values with $ or commas\n",
    "            has_dollar = df[col].astype(str).str.contains('\\$').sum()\n",
    "            has_comma = df[col].astype(str).str.contains(',').sum()\n",
    "            \n",
    "            print(f\"\\n{col}:\")\n",
    "            print(f\"  Values with $ symbol: {has_dollar}\")\n",
    "            print(f\"  Values with commas: {has_comma}\")\n",
    "            print(f\"  Sample values: {df[col].astype(str).sample(5).tolist()}\")\n",
    "\n",
    "# Assuming Revenue, Cost, and Profit are currency columns\n",
    "currency_columns = ['Revenue', 'Cost', 'Profit']\n",
    "print(\"Currency formatting check:\")\n",
    "check_currency_format(df_raw, currency_columns)"
   ]
  },
  {
   "cell_type": "code",
   "execution_count": null,
   "metadata": {},
   "outputs": [],
   "source": [
    "# Check for inconsistent date formatting\n",
    "def check_date_format(df, columns):\n",
    "    for col in columns:\n",
    "        if col in df.columns:\n",
    "            print(f\"\\n{col}:\")\n",
    "            print(f\"  Sample values: {df[col].sample(10).tolist()}\")\n",
    "\n",
    "# Identify potential date columns\n",
    "date_columns = [col for col in df_raw.columns if 'date' in col.lower()]\n",
    "print(\"Date formatting check:\")\n",
    "check_date_format(df_raw, date_columns)"
   ]
  },
  {
   "cell_type": "markdown",
   "metadata": {},
   "source": [
    "## 4. Clean the Data"
   ]
  },
  {
   "cell_type": "code",
   "execution_count": null,
   "metadata": {},
   "outputs": [],
   "source": [
    "# Clean the data using our utility function\n",
    "df_cleaned = clean_financial_data(df_raw)\n",
    "\n",
    "# Display the cleaned data\n",
    "print(\"Cleaned Data - First 5 rows:\")\n",
    "df_cleaned.head()"
   ]
  },
  {
   "cell_type": "code",
   "execution_count": null,
   "metadata": {},
   "outputs": [],
   "source": [
    "# Compare before and after cleaning\n",
    "print(\"Before cleaning:\")\n",
    "print(f\"Shape: {df_raw.shape}\")\n",
    "print(f\"Data types:\\n{df_raw.dtypes}\\n\")\n",
    "\n",
    "print(\"After cleaning:\")\n",
    "print(f\"Shape: {df_cleaned.shape}\")\n",
    "print(f\"Data types:\\n{df_cleaned.dtypes}\\n\")\n",
    "\n",
    "# Check for missing values after cleaning\n",
    "missing_after = df_cleaned.isnull().sum()\n",
    "print(\"Missing values after cleaning:\")\n",
    "print(missing_after[missing_after > 0])"
   ]
  },
  {
   "cell_type": "markdown",
   "metadata": {},
   "source": [
    "## 5. Save Cleaned Data"
   ]
  },
  {
   "cell_type": "code",
   "execution_count": null,
   "metadata": {},
   "outputs": [],
   "source": [
    "# Save the cleaned data\n",
    "cleaned_data_path = '../data/processed/cleaned_data.csv'\n",
    "save_cleaned_data(df_cleaned, cleaned_data_path)"
   ]
  },
  {
   "cell_type": "markdown",
   "metadata": {},
   "source": [
    "## 6. Summary of Cleaning Process\n",
    "\n",
    "In this notebook, we performed the following data cleaning steps:\n",
    "\n",
    "1. **Loaded and inspected the raw data**\n",
    "   - Examined the structure, columns, and data types\n",
    "   - Identified potential issues\n",
    "\n",
    "2. **Identified and handled missing values**\n",
    "   - Detected explicit missing values (NaN)\n",
    "   - Identified placeholder values like '-', 'None', etc.\n",
    "\n",
    "3. **Fixed inconsistent formatting**\n",
    "   - Standardized currency values by removing '$', commas, and whitespace\n",
    "   - Standardized date formats to YYYY-MM-DD\n",
    "\n",
    "4. **Normalized categorical variables**\n",
    "   - Standardized inconsistent labels (e.g., 'Midmarket' vs 'Mid Market')\n",
    "\n",
    "5. **Handled missing values**\n",
    "   - Imputed numeric columns with median values\n",
    "   - Imputed categorical columns with mode values\n",
    "\n",
    "6. **Saved the cleaned dataset** for further analysis\n",
    "\n",
    "The cleaned dataset is now ready for exploratory data analysis and modeling."
   ]
  }
 ],
 "metadata": {
  "kernelspec": {
   "display_name": "Python 3 (ipykernel)",
   "language": "python",
   "name": "python3"
  },
  "language_info": {
   "codemirror_mode": {
    "name": "ipython",
    "version": 3
   },
   "file_extension": ".py",
   "mimetype": "text/x-python",
   "name": "python",
   "nbconvert_exporter": "python",
   "pygments_lexer": "ipython3",
   "version": "3.13.2"
  }
 },
 "nbformat": 4,
 "nbformat_minor": 4
}
