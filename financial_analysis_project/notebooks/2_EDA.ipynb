{
    "cells": [
     {
      "cell_type": "markdown",
      "metadata": {},
      "source": [
       "# Exploratory Data Analysis (EDA)\n",
       "\n",
       "This notebook focuses on exploring the cleaned financial data to identify patterns, trends, and relationships between variables."
      ]
     },
     {
      "cell_type": "code",
      "execution_count": null,
      "metadata": {},
      "source": [
       "import pandas as pd\n",
       "import numpy as np\n",
       "import matplotlib.pyplot as plt\n",
       "import seaborn as sns\n",
       "import sys\n",
       "import os\n",
       "\n",
       "# Set plot styling\n",
       "plt.style.use('seaborn-whitegrid')\n",
       "sns.set_palette('viridis')\n",
       "plt.rcParams['figure.figsize'] = (12, 8)\n",
       "plt.rcParams['font.size'] = 12\n",
       "\n",
       "# Add the src directory to the path\n",
       "sys.path.append(os.path.abspath('../src'))\n",
       "\n",
       "# Import custom modules\n",
       "from data_loader import load_raw_data\n",
       "from eda_utils import generate_summary_statistics, plot_distribution, plot_correlation_matrix, plot_boxplot, plot_time_series\n",
       "\n",
       "# Create results directory if it doesn't exist\n",
       "os.makedirs('../results/plots', exist_ok=True)"
      ]
     },
     {
      "cell_type": "markdown",
      "metadata": {},
      "source": [
       "## 1. Load the Cleaned Data"
      ]
     },
     {
      "cell_type": "code",
      "execution_count": null,
      "metadata": {},
      "source": [
       "# Load the cleaned data\n",
       "cleaned_data_path = '../data/processed/cleaned_data.csv'\n",
       "df = pd.read_csv(cleaned_data_path)\n",
       "\n",
       "# Display basic information\n",
       "print(f\"Dataset Shape: {df.shape}\")\n",
       "print(f\"\\nColumns: {df.columns.tolist()}\")\n",
       "print(\"\\nData Types:\")\n",
       "print(df.dtypes)\n",
       "\n",
       "# Display first few rows\n",
       "df.head()"
      ]
     },
     {
      "cell_type": "markdown",
      "metadata": {},
      "source": [
       "## 2. Summary Statistics\n",
       "\n",
       "Let's compute summary statistics for the key financial metrics: Revenue, Cost, and Profit."
      ]
     },
     {
      "cell_type": "code",
      "execution_count": null,
      "metadata": {},
      "source": [
       "# Calculate summary statistics for financial metrics\n",
       "financial_cols = ['Revenue', 'Cost', 'Profit']\n",
       "financial_summary = df[financial_cols].describe()\n",
       "\n",
       "# Display the summary statistics\n",
       "print(\"Summary Statistics for Financial Metrics:\")\n",
       "financial_summary"
      ]
     },
     {
      "cell_type": "code",
      "execution_count": null,
      "metadata": {},
      "source": [
       "# Calculate additional statistics\n",
       "for col in financial_cols:\n",
       "    print(f\"\\n{col} Statistics:\")\n",
       "    print(f\"Median: ${df[col].median():,.2f}\")\n",
       "    print(f\"Mean: ${df[col].mean():,.2f}\")\n",
       "    print(f\"Standard Deviation: ${df[col].std():,.2f}\")\n",
       "    print(f\"Minimum: ${df[col].min():,.2f}\")\n",
       "    print(f\"Maximum: ${df[col].max():,.2f}\")\n",
       "    print(f\"Range: ${df[col].max() - df[col].min():,.2f}\")\n",
       "    print(f\"Interquartile Range (IQR): ${df[col].quantile(0.75) - df[col].quantile(0.25):,.2f}\")\n",
       "    print(f\"Skewness: {df[col].skew():,.2f}\")\n",
       "    print(f\"Kurtosis: {df[col].kurtosis():,.2f}\")"
      ]
     },
     {
      "cell_type": "markdown",
      "metadata": {},
      "source": [
       "### Calculate Return on Assets (ROA)\n",
       "\n",
       "ROA is typically calculated as Net Income / Total Assets. Since we don't have Total Assets in our dataset, we'll create a proxy ROA using Profit as Net Income and a combination of other available metrics."
      ]
     },
     {
      "cell_type": "code",
      "execution_count": null,
      "metadata": {},
      "source": [
       "# Calculate a proxy for ROA (Return on Assets)\n",
       "# Since we don't have Total Assets, we'll use Cost as a proxy for assets employed\n",
       "df['ROA'] = df['Profit'] / df['Cost']\n",
       "\n",
       "# Handle potential division by zero or infinity\n",
       "df['ROA'] = df['ROA'].replace([np.inf, -np.inf], np.nan).fillna(0)\n",
       "\n",
       "# Display ROA summary statistics\n",
       "print(\"ROA (Return on Assets) Summary Statistics:\")\n",
       "df['ROA'].describe()"
      ]
     },
     {
      "cell_type": "markdown",
      "metadata": {},
      "source": [
       "## 3. Distribution Analysis\n",
       "\n",
       "Let's visualize the distributions of our key financial metrics: Revenue, Cost, Profit, and ROA."
      ]
     },
     {
      "cell_type": "code",
      "execution_count": null,
      "metadata": {},
      "source": [
       "# Plot distributions for financial metrics\n",
       "for col in ['Revenue', 'Cost', 'Profit', 'ROA']:\n",
       "    plt.figure(figsize=(12, 6))\n",
       "    \n",
       "    # Create subplot with 1 row and 2 columns\n",
       "    plt.subplot(1, 2, 1)\n",
       "    sns.histplot(df[col], kde=True)\n",
       "    plt.title(f'Distribution of {col}')\n",
       "    plt.axvline(df[col].mean(), color='red', linestyle='--', label=f'Mean: {df[col].mean():.2f}')\n",
       "    plt.axvline(df[col].median(), color='green', linestyle='--', label=f'Median: {df[col].median():.2f}')\n",
       "    plt.legend()\n",
       "    \n",
       "    # Add boxplot\n",
       "    plt.subplot(1, 2, 2)\n",
       "    sns.boxplot(y=df[col])\n",
       "    plt.title(f'Boxplot of {col}')\n",
       "    \n",
       "    plt.tight_layout()\n",
       "    plt.savefig(f'../results/plots/{col}_distribution.png')\n",
       "    plt.show()"
      ]
     },
     {
      "cell_type": "code",
      "execution_count": null,
      "metadata": {},
      "source": [
       "# Check for outliers using IQR method\n",
       "def identify_outliers(df, column):\n",
       "    Q1 = df[column].quantile(0.25)\n",
       "    Q3 = df[column].quantile(0.75)\n",
       "    IQR = Q3 - Q1\n",
       "    \n",
       "    lower_bound = Q1 - 1.5 * IQR\n",
       "    upper_bound = Q3 + 1.5 * IQR\n",
       "    \n",
       "    outliers = df[(df[column] < lower_bound) | (df[column] > upper_bound)]\n",
       "    return outliers, lower_bound, upper_bound\n",
       "\n",
       "# Identify outliers for each financial metric\n",
       "for col in ['Revenue', 'Cost', 'Profit', 'ROA']:\n",
       "    outliers, lower_bound, upper_bound = identify_outliers(df, col)\n",
       "    print(f\"\\nOutliers in {col}:\")\n",
       "    print(f\"Number of outliers: {len(outliers)}\")\n",
       "    print(f\"Percentage of outliers: {len(outliers) / len(df) * 100:.2f}%\")\n",
       "    print(f\"Lower bound: {lower_bound:.2f}\")\n",
       "    print(f\"Upper bound: {upper_bound:.2f}\")\n",
       "    \n",
       "    if len(outliers) > 0:\n",
       "        print(\"\\nSample of outliers:\")\n",
       "        print(outliers.head(5))"
      ]
     },
     {
      "cell_type": "markdown",
      "metadata": {},
      "source": [
       "## 4. Sector/Region Trends\n",
       "\n",
       "Let's analyze trends across different segments and countries."
      ]
     },
     {
      "cell_type": "code",
      "execution_count": null,
      "metadata": {},
      "source": [
       "# Group by Segment and calculate average metrics\n",
       "segment_analysis = df.groupby('Segment').agg({\n",
       "    'Revenue': 'mean',\n",
       "    'Cost': 'mean',\n",
       "    'Profit': 'mean',\n",
       "    'ROA': 'mean',\n",
       "    'Segment': 'count'\n",
       "}).rename(columns={'Segment': 'Count'}).sort_values('Profit', ascending=False)\n",
       "\n",
       "print(\"Segment Analysis:\")\n",
       "segment_analysis"
      ]
     },
     {
      "cell_type": "code",
      "execution_count": null,
      "metadata": {},
      "source": [
       "# Visualize segment performance\n",
       "plt.figure(figsize=(14, 8))\n",
       "\n",
       "# Create a bar plot for average profit by segment\n",
       "plt.subplot(1, 2, 1)\n",
       "sns.barplot(x=segment_analysis.index, y='Profit', data=segment_analysis)\n",
       "plt.title('Average Profit by Segment')\n",
       "plt.xticks(rotation=45)\n",
       "plt.ylabel('Average Profit ($)')\n",
       "\n",
       "# Create a bar plot for ROA by segment\n",
       "plt.subplot(1, 2, 2)\n",
       "sns.barplot(x=segment_analysis.index, y='ROA', data=segment_analysis)\n",
       "plt.title('Average ROA by Segment')\n",
       "plt.xticks(rotation=45)\n",
       "plt.ylabel('Average ROA')\n",
       "\n",
       "plt.tight_layout()\n",
       "plt.savefig('../results/plots/segment_performance.png')\n",
       "plt.show()"
      ]
     },
     {
      "cell_type": "code",
      "execution_count": null,
      "metadata": {},
      "source": [
       "# Group by Country and calculate average metrics\n",
       "country_analysis = df.groupby('Country').agg({\n",
       "    'Revenue': 'mean',\n",
       "    'Cost': 'mean',\n",
       "    'Profit': 'mean',\n",
       "    'ROA': 'mean',\n",
       "    'Country': 'count'\n",
       "}).rename(columns={'Country': 'Count'}).sort_values('Profit', ascending=False)\n",
       "\n",
       "print(\"Country Analysis:\")\n",
       "country_analysis.head(10)  # Show top 10 countries by profit"
      ]
     },
     {
      "cell_type": "code",
      "execution_count": null,
      "metadata": {},
      "source": [
       "# Visualize country performance (top 10 countries by profit)\n",
       "top_countries = country_analysis.head(10)\n",
       "\n",
       "plt.figure(figsize=(14, 8))\n",
       "\n",
       "# Create a bar plot for average profit by country\n",
       "plt.subplot(1, 2, 1)\n",
       "sns.barplot(x=top_countries.index, y='Profit', data=top_countries)\n",
       "plt.title('Average Profit by Country (Top 10)')\n",
       "plt.xticks(rotation=45)\n",
       "plt.ylabel('Average Profit ($)')\n",
       "\n",
       "# Create a bar plot for ROA by country\n",
       "plt.subplot(1, 2, 2)\n",
       "sns.barplot(x=top_countries.index, y='ROA', data=top_countries)\n",
       "plt.title('Average ROA by Country (Top 10)')\n",
       "plt.xticks(rotation=45)\n",
       "plt.ylabel('Average ROA')\n",
       "\n",
       "plt.tight_layout()\n",
       "plt.savefig('../results/plots/country_performance.png')\n",
       "plt.show()"
      ]
     },
     {
      "cell_type": "code",
      "execution_count": null,
      "metadata": {},
      "source": [
       "# Cross-tabulation of Segment and Country\n",
       "# Let's see which segments are most common in which countries\n",
       "segment_country_crosstab = pd.crosstab(df['Segment'], df['Country'])\n",
       "\n",
       "# Display the cross-tabulation\n",
       "print(\"Segment-Country Cross-tabulation:\")\n",
       "segment_country_crosstab.head()"
      ]
     },
     {
      "cell_type": "code",
      "execution_count": null,
      "metadata": {},
      "source": [
        "# Visualize the segment-country relationship with a heatmap\n",
        "plt.figure(figsize=(16, 10))\n",
        "sns.heatmap(segment_country_crosstab.iloc[:, :10], annot=True, cmap='viridis', fmt='d')\n",
        "plt.title('Segment-Country Distribution (Top 10 Countries)')\n",
        "plt.tight_layout()\n",
        "plt.savefig('../results/plots/segment_country_heatmap.png')\n",
        "plt.show()"
       ]
      },
      {
       "cell_type": "code",
       "execution_count": null,
       "metadata": {},
       "source": [
        "# Group by Product and calculate average metrics\n",
        "product_analysis = df.groupby('Product').agg({\n",
        "    'Revenue': 'mean',\n",
        "    'Cost': 'mean',\n",
        "    'Profit': 'mean',\n",
        "    'ROA': 'mean',\n",
        "    'Product': 'count'\n",
        "}).rename(columns={'Product': 'Count'}).sort_values('Profit', ascending=False)\n",
        "\n",
        "print(\"Product Analysis:\")\n",
        "product_analysis.head(10)  # Show top 10 products by profit"
       ]
      },
      {
       "cell_type": "code",
       "execution_count": null,
       "metadata": {},
       "source": [
        "# Visualize product performance (top 10 products by profit)\n",
        "top_products = product_analysis.head(10)\n",
        "\n",
        "plt.figure(figsize=(14, 8))\n",
        "\n",
        "# Create a bar plot for average profit by product\n",
        "plt.subplot(1, 2, 1)\n",
        "sns.barplot(x=top_products.index, y='Profit', data=top_products)\n",
        "plt.title('Average Profit by Product (Top 10)')\n",
        "plt.xticks(rotation=45)\n",
        "plt.ylabel('Average Profit ($)')\n",
        "\n",
        "# Create a bar plot for ROA by product\n",
        "plt.subplot(1, 2, 2)\n",
        "sns.barplot(x=top_products.index, y='ROA', data=top_products)\n",
        "plt.title('Average ROA by Product (Top 10)')\n",
        "plt.xticks(rotation=45)\n",
        "plt.ylabel('Average ROA')\n",
        "\n",
        "plt.tight_layout()\n",
        "plt.savefig('../results/plots/product_performance.png')\n",
        "plt.show()"
       ]
      },
      {
       "cell_type": "markdown",
       "metadata": {},
       "source": [
        "## 5. Correlation Analysis\n",
        "\n",
        "Let's analyze the correlations between our numeric variables."
       ]
      },
      {
       "cell_type": "code",
       "execution_count": null,
       "metadata": {},
       "source": [
        "# Select numeric columns for correlation analysis\n",
        "numeric_cols = df.select_dtypes(include=['number']).columns.tolist()\n",
        "print(f\"Numeric columns: {numeric_cols}\")\n",
        "\n",
        "# Calculate correlation matrix\n",
        "correlation_matrix = df[numeric_cols].corr()\n",
        "\n",
        "# Display the correlation matrix\n",
        "print(\"\\nCorrelation Matrix:\")\n",
        "correlation_matrix"
       ]
      },
      {
       "cell_type": "code",
       "execution_count": null,
       "metadata": {},
       "source": [
        "# Visualize the correlation matrix with a heatmap\n",
        "plt.figure(figsize=(12, 10))\n",
        "sns.heatmap(correlation_matrix, annot=True, cmap='coolwarm', fmt='.2f', linewidths=0.5)\n",
        "plt.title('Correlation Matrix of Numeric Variables')\n",
        "plt.tight_layout()\n",
        "plt.savefig('../results/plots/correlation_matrix.png')\n",
        "plt.show()"
       ]
      },
      {
       "cell_type": "code",
       "execution_count": null,
       "metadata": {},
       "source": [
        "# Identify highly correlated pairs\n",
        "def get_highly_correlated_pairs(corr_matrix, threshold=0.5):\n",
        "    # Get the upper triangle of the correlation matrix\n",
        "    upper = corr_matrix.where(np.triu(np.ones(corr_matrix.shape), k=1).astype(bool))\n",
        "    \n",
        "    # Find pairs with correlation greater than threshold\n",
        "    high_corr_pairs = []\n",
        "    for col in upper.columns:\n",
        "        for idx in upper.index:\n",
        "            if abs(upper.loc[idx, col]) > threshold:\n",
        "                high_corr_pairs.append((idx, col, upper.loc[idx, col]))\n",
        "    \n",
        "    # Sort by absolute correlation value\n",
        "    high_corr_pairs.sort(key=lambda x: abs(x[2]), reverse=True)\n",
        "    return high_corr_pairs\n",
        "\n",
        "# Get highly correlated pairs\n",
        "high_corr_pairs = get_highly_correlated_pairs(correlation_matrix, threshold=0.5)\n",
        "\n",
        "# Display the highly correlated pairs\n",
        "print(\"Highly Correlated Pairs (|correlation| > 0.5):\")\n",
        "for var1, var2, corr in high_corr_pairs:\n",
        "    print(f\"{var1} and {var2}: {corr:.2f}\")"
       ]
      },
      {
       "cell_type": "code",
       "execution_count": null,
       "metadata": {},
       "source": [
        "# Visualize the relationships between highly correlated pairs\n",
        "for var1, var2, corr in high_corr_pairs[:5]:  # Plot top 5 correlated pairs\n",
        "    plt.figure(figsize=(12, 6))\n",
        "    \n",
        "    # Create scatter plot\n",
        "    plt.subplot(1, 2, 1)\n",
        "    sns.scatterplot(x=df[var1], y=df[var2])\n",
        "    plt.title(f'Scatter Plot: {var1} vs {var2} (corr={corr:.2f})')\n",
        "    plt.xlabel(var1)\n",
        "    plt.ylabel(var2)\n",
        "    \n",
        "    # Add regression line\n",
        "    plt.subplot(1, 2, 2)\n",
        "    sns.regplot(x=df[var1], y=df[var2])\n",
        "    plt.title(f'Regression Plot: {var1} vs {var2} (corr={corr:.2f})')\n",
        "    plt.xlabel(var1)\n",
        "    plt.ylabel(var2)\n",
        "    \n",
        "    plt.tight_layout()\n",
        "    plt.savefig(f'../results/plots/correlation_{var1}_{var2}.png')\n",
        "    plt.show()"
       ]
      },
      {
       "cell_type": "markdown",
       "metadata": {},
       "source": [
        "## 6. Time Series Analysis\n",
        "\n",
        "Let's analyze how our financial metrics change over time."
       ]
      },
      {
       "cell_type": "code",
       "execution_count": null,
       "metadata": {},
       "source": [
        "# Check if we have a date column\n",
        "date_columns = [col for col in df.columns if 'date' in col.lower()]\n",
        "print(f\"Date columns found: {date_columns}\")\n",
        "\n",
        "# If we have a date column, convert it to datetime\n",
        "if date_columns:\n",
        "    date_col = date_columns[0]\n",
        "    df[date_col] = pd.to_datetime(df[date_col])\n",
        "    \n",
        "    # Group by month and calculate average metrics\n",
        "    df['Month'] = df[date_col].dt.to_period('M')\n",
        "    monthly_data = df.groupby('Month').agg({\n",
        "        'Revenue': 'mean',\n",
        "        'Cost': 'mean',\n",
        "        'Profit': 'mean',\n",
        "        'ROA': 'mean'\n",
        "    })\n",
        "    \n",
        "    # Convert Period index to datetime for plotting\n",
        "    monthly_data.index = monthly_data.index.to_timestamp()\n",
        "    \n",
        "    # Plot time series\n",
        "    plt.figure(figsize=(14, 10))\n",
        "    \n",
        "    # Revenue over time\n",
        "    plt.subplot(2, 2, 1)\n",
        "    plt.plot(monthly_data.index, monthly_data['Revenue'])\n",
        "    plt.title('Average Monthly Revenue')\n",
        "    plt.xlabel('Date')\n",
        "    plt.ylabel('Revenue ($)')\n",
        "    plt.grid(True)\n",
        "    \n",
        "    # Cost over time\n",
        "    plt.subplot(2, 2, 2)\n",
        "    plt.plot(monthly_data.index, monthly_data['Cost'])\n",
        "    plt.title('Average Monthly Cost')\n",
        "    plt.xlabel('Date')\n",
        "    plt.ylabel('Cost ($)')\n",
        "    plt.grid(True)\n",
        "    \n",
        "    # Profit over time\n",
        "    plt.subplot(2, 2, 3)\n",
        "    plt.plot(monthly_data.index, monthly_data['Profit'])\n",
        "    plt.title('Average Monthly Profit')\n",
        "    plt.xlabel('Date')\n",
        "    plt.ylabel('Profit ($)')\n",
        "    plt.grid(True)\n",
        "    \n",
        "    # ROA over time\n",
        "    plt.subplot(2, 2, 4)\n",
        "    plt.plot(monthly_data.index, monthly_data['ROA'])\n",
        "    plt.title('Average Monthly ROA')\n",
        "    plt.xlabel('Date')\n",
        "    plt.ylabel('ROA')\n",
        "    plt.grid(True)\n",
        "    \n",
        "    plt.tight_layout()\n",
        "    plt.savefig('../results/plots/time_series_analysis.png')\n",
        "    plt.show()\n",
        "    \n",
        "    # Seasonal analysis\n",
        "    df['Year'] = df[date_col].dt.year\n",
        "    df['Month_Num'] = df[date_col].dt.month\n",
        "    \n",
        "    # Group by month number and calculate average metrics\n",
        "    seasonal_data = df.groupby('Month_Num').agg({\n",
        "        'Revenue': 'mean',\n",
        "        'Cost': 'mean',\n",
        "        'Profit': 'mean',\n",
        "        'ROA': 'mean'\n",
        "    })\n",
        "    \n",
        "    # Plot seasonal patterns\n",
        "    plt.figure(figsize=(14, 10))\n",
        "    \n",
        "    # Revenue by month\n",
        "    plt.subplot(2, 2, 1)\n",
        "    plt.plot(seasonal_data.index, seasonal_data['Revenue'], marker='o')\n",
        "    plt.title('Average Revenue by Month')\n",
        "    plt.xlabel('Month')\n",
        "    plt.ylabel('Revenue ($)')\n",
        "    plt.xticks(range(1, 13))\n",
        "    plt.grid(True)\n",
        "    \n",
        "    # Cost by month\n",
        "    plt.subplot(2, 2, 2)\n",
        "    plt.plot(seasonal_data.index, seasonal_data['Cost'], marker='o')\n",
        "    plt.title('Average Cost by Month')\n",
        "    plt.xlabel('Month')\n",
        "    plt.ylabel('Cost ($)')\n",
        "    plt.xticks(range(1, 13))\n",
        "    plt.grid(True)\n",
        "    \n",
        "    # Profit by month\n",
        "    plt.subplot(2, 2, 3)\n",
        "    plt.plot(seasonal_data.index, seasonal_data['Profit'], marker='o')\n",
        "    plt.title('Average Profit by Month')\n",
        "    plt.xlabel('Month')\n",
        "    plt.ylabel('Profit ($)')\n",
        "    plt.xticks(range(1, 13))\n",
        "    plt.grid(True)\n",
        "    \n",
        "    # ROA by month\n",
        "    plt.subplot(2, 2, 4)\n",
        "    plt.plot(seasonal_data.index, seasonal_data['ROA'], marker='o')\n",
        "    plt.title('Average ROA by Month')\n",
        "    plt.xlabel('Month')\n",
        "    plt.ylabel('ROA')\n",
        "    plt.xticks(range(1, 13))\n",
        "    plt.grid(True)\n",
        "    \n",
        "    plt.tight_layout()\n",
        "    plt.savefig('../results/plots/seasonal_analysis.png')\n",
        "    plt.show()\n",
        "else:\n",
        "    print(\"No date column found for time series analysis.\")"
       ]
      },
      {
       "cell_type": "markdown",
       "metadata": {},
       "source": [
        "## 7. Segment-Product Analysis\n",
        "\n",
        "Let's analyze the relationship between segments and products."
       ]
      },
      {
       "cell_type": "code",
       "execution_count": null,
       "metadata": {},
       "source": [
        "# Cross-tabulation of Segment and Product\n",
        "segment_product_crosstab = pd.crosstab(df['Segment'], df['Product'])\n",
        "\n",
        "# Display the cross-tabulation\n",
        "print(\"Segment-Product Cross-tabulation:\")\n",
        "segment_product_crosstab.head()"
       ]
      },
      {
       "cell_type": "code",
       "execution_count": null,
       "metadata": {},
       "source": [
        "# Visualize the segment-product relationship with a heatmap\n",
        "# If there are many products, select the top ones by frequency\n",
        "top_products = df['Product'].value_counts().head(10).index.tolist()\n",
        "segment_top_products = segment_product_crosstab[top_products]\n",
        "\n",
        "plt.figure(figsize=(16, 10))\n",
        "sns.heatmap(segment_top_products, annot=True, cmap='viridis', fmt='d')\n",
        "plt.title('Segment-Product Distribution (Top 10 Products)')\n",
        "plt.tight_layout()\n",
        "plt.savefig('../results/plots/segment_product_heatmap.png')\n",
        "plt.show()"
       ]
      },
      {
       "cell_type": "code",
       "execution_count": null,
       "metadata": {},
       "source": [
        "# Calculate average profit by segment and product\n",
        "segment_product_profit = df.pivot_table(\n",
        "    values='Profit',\n",
        "    index='Segment',\n",
        "    columns='Product',\n",
        "    aggfunc='mean'\n",
        ")\n",
        "\n",
        "# Select top products for visualization\n",
        "segment_product_profit_top = segment_product_profit[top_products]\n",
        "\n",
        "# Visualize average profit by segment and product\n",
        "plt.figure(figsize=(16, 10))\n",
        "sns.heatmap(segment_product_profit_top, annot=True, cmap='RdYlGn', fmt='.2f')\n",
        "plt.title('Average Profit by Segment and Product')\n",
        "plt.tight_layout()\n",
        "plt.savefig('../results/plots/segment_product_profit.png')\n",
        "plt.show()"
       ]
      },
      {
       "cell_type": "markdown",
       "metadata": {},
       "source": [
        "## 8. Profit Margin Analysis\n",
        "\n",
        "Let's calculate and analyze profit margins across different dimensions."
       ]
      },
      {
       "cell_type": "code",
       "execution_count": null,
       "metadata": {},
       "source": [
        "# Calculate profit margin\n",
        "df['Profit_Margin'] = df['Profit'] / df['Revenue']\n",
        "\n",
        "# Handle potential division by zero or infinity\n",
        "df['Profit_Margin'] = df['Profit_Margin'].replace([np.inf, -np.inf], np.nan).fillna(0)\n",
        "\n",
        "# Display profit margin summary statistics\n",
        "print(\"Profit Margin Summary Statistics:\")\n",
        "df['Profit_Margin'].describe()"
       ]
      },
      {
       "cell_type": "code",
       "execution_count": null,
       "metadata": {},
       "source": [
        "# Visualize profit margin distribution\n",
        "plt.figure(figsize=(12, 6))\n",
        "\n",
        "# Create subplot with 1 row and 2 columns\n",
        "plt.subplot(1, 2, 1)\n",
        "sns.histplot(df['Profit_Margin'], kde=True)\n",
        "plt.title('Distribution of Profit Margin')\n",
        "plt.axvline(df['Profit_Margin'].mean(), color='red', linestyle='--', label=f'Mean: {df[\"Profit_Margin\"].mean():.2f}')\n",
        "plt.axvline(df['Profit_Margin'].median(), color='green', linestyle='--', label=f'Median: {df[\"Profit_Margin\"].median():.2f}')\n",
        "plt.legend()\n",
        "\n",
        "# Add boxplot\n",
        "plt.subplot(1, 2, 2)\n",
        "sns.boxplot(y=df['Profit_Margin'])\n",
        "plt.title('Boxplot of Profit Margin')\n",
        "\n",
        "plt.tight_layout()\n",
        "plt.savefig('../results/plots/profit_margin_distribution.png')\n",
        "plt.show()"
       ]
      },
      {
       "cell_type": "code",
       "execution_count": null,
       "metadata": {},
       "source": [
        "# Analyze profit margin by segment\n",
        "segment_margin = df.groupby('Segment')['Profit_Margin'].mean().sort_values(ascending=False)\n",
        "\n",
        "plt.figure(figsize=(12, 6))\n",
        "sns.barplot(x=segment_margin.index, y=segment_margin.values)\n",
        "plt.title('Average Profit Margin by Segment')\n",
        "plt.xticks(rotation=45)\n",
        "plt.ylabel('Profit Margin')\n",
        "plt.grid(axis='y')\n",
        "plt.tight_layout()\n",
        "plt.savefig('../results/plots/profit_margin_by_segment.png')\n",
        "plt.show()"
       ]
      },
      {
       "cell_type": "code",
       "execution_count": null,
       "metadata": {},
       "source": [
        "# Analyze profit margin by product (top 10 products)\n",
        "product_margin = df.groupby('Product')['Profit_Margin'].mean().sort_values(ascending=False).head(10)\n",
        "\n",
        "plt.figure(figsize=(12, 6))\n",
        "sns.barplot(x=product_margin.index, y=product_margin.values)\n",
        "plt.title('Average Profit Margin by Product (Top 10)')\n",
        "plt.xticks(rotation=45)\n",
        "plt.ylabel('Profit Margin')\n",
        "plt.grid(axis='y')\n",
        "plt.tight_layout()\n",
        "plt.savefig('../results/plots/profit_margin_by_product.png')\n",
        "plt.show()"
       ]
      },
      {
       "cell_type": "code",
       "execution_count": null,
       "metadata": {},
       "source": [
        "# Analyze profit margin by country (top 10 countries)\n",
        "country_margin = df.groupby('Country')['Profit_Margin'].mean().sort_values(ascending=False).head(10)\n",
        "\n",
        "plt.figure(figsize=(12, 6))\n",
        "sns.barplot(x=country_margin.index, y=country_margin.values)\n",
        "plt.title('Average Profit Margin by Country (Top 10)')\n",
        "plt.xticks(rotation=45)\n",
        "plt.ylabel('Profit Margin')\n",
        "plt.grid(axis='y')\n",
        "plt.tight_layout()\n",
        "plt.savefig('../results/plots/profit_margin_by_country.png')\n",
        "plt.show()"
       ]
      },
      {
       "cell_type": "markdown",
       "metadata": {},
       "source": [
        "## 9. Revenue-Cost-Profit Relationship\n",
        "\n",
        "Let's analyze the relationship between Revenue, Cost, and Profit."
       ]
      },
      {
       "cell_type": "code",
       "execution_count": null,
       "metadata": {},
       "source": [
        "# Create a scatter plot of Revenue vs. Cost, colored by Profit\n",
        "plt.figure(figsize=(12, 8))\n",
        "scatter = plt.scatter(df['Revenue'], df['Cost'], c=df['Profit'], cmap='RdYlGn', alpha=0.7)\n",
        "plt.colorbar(scatter, label='Profit ($)')\n",
        "plt.title('Revenue vs. Cost (colored by Profit)')\n",
        "plt.xlabel('Revenue ($)')\n",
        "plt.ylabel('Cost ($)')\n",
        "plt.grid(True)\n",
        "\n",
        "# Add a diagonal line representing Revenue = Cost (i.e., Profit = 0)\n",
        "max_val = max(df['Revenue'].max(), df['Cost'].max())\n",
        "plt.plot([0, max_val], [0, max_val], 'k--', label='Revenue = Cost (Profit = 0)')\n",
        "plt.legend()\n",
        "\n",
        "plt.tight_layout()\n",
        "plt.savefig('../results/plots/revenue_cost_profit_relationship.png')\n",
        "plt.show()"
       ]
      },
      {
       "cell_type": "code",
       "execution_count": null,
       "metadata": {},
       "source": [
        "# Create a 3D scatter plot of Revenue, Cost, and Profit\n",
        "from mpl_toolkits.mplot3d import Axes3D\n",
        "\n",
        "fig = plt.figure(figsize=(12, 10))\n",
        "ax = fig.add_subplot(111, projection='3d')\n",
        "\n",
        "# Sample data points (if dataset is large)\n",
        "sample_size = min(1000, len(df))\n",
        "sample_df = df.sample(sample_size, random_state=42)\n",
        "\n",
        "# Create scatter plot\n",
        "scatter = ax.scatter(\n",
        "    sample_df['Revenue'],\n",
        "    sample_df['Cost'],\n",
        "    sample_df['Profit'],\n",
        "    c=sample_df['Profit_Margin'],\n",
        "    cmap='RdYlGn',\n",
        "    alpha=0.7\n",
        ")\n",
        "\n",
        "# Add labels and title\n",
        "ax.set_xlabel('Revenue ($)')\n",
        "ax.set_ylabel('Cost ($)')\n",
        "ax.set_zlabel('Profit ($)')\n",
        "ax.set_title('3D Relationship: Revenue, Cost, and Profit')\n",
        "\n",
        "# Add color bar\n",
        "cbar = fig.colorbar(scatter, ax=ax, label='Profit Margin')\n",
        "\n",
        "plt.tight_layout()\n",
        "plt.savefig('../results/plots/revenue_cost_profit_3d.png')\n",
        "plt.show()"
       ]
      },
      {
       "cell_type": "markdown",
       "metadata": {},
       "source": [
        "## 10. Key Insights and Summary\n",
        "\n",
        "Let's summarize the key insights from our exploratory data analysis."
       ]
      },
      {
       "cell_type": "markdown",
       "metadata": {},
       "source": [
        "### Summary Statistics\n",
        "- The average Revenue is $XXX with a standard deviation of $XXX.\n",
        "- The average Cost is $XXX with a standard deviation of $XXX.\n",
        "- The average Profit is $XXX with a standard deviation of $XXX.\n",
        "- The average ROA is XXX with a standard deviation of XXX.\n",
        "- The average Profit Margin is XXX with a standard deviation of XXX.\n",
        "\n",
        "### Distribution Analysis\n",
        "- Revenue, Cost, and Profit distributions are right-skewed, indicating that a small number of high-value transactions contribute significantly to the overall financial performance.\n",
        "- ROA distribution shows XXX pattern, suggesting XXX.\n",
        "- Profit Margin distribution reveals XXX, indicating XXX.\n",
        "\n",
        "### Sector/Region Trends\n",
        "- The XXX segment generates the highest average profit, followed by XXX and XXX.\n",
        "- XXX has the highest ROA, suggesting efficient use of assets in this segment.\n",
        "- The top-performing countries in terms of profit are XXX, XXX, and XXX.\n",
        "- XXX products are most profitable, with an average profit of $XXX.\n",
        "\n",
        "### Correlation Analysis\n",
        "- Revenue and Cost show a strong positive correlation (XXX), indicating that higher revenue is associated with higher costs.\n",
        "- Revenue and Profit are also strongly correlated (XXX), suggesting that increasing revenue generally leads to higher profits.\n",
        "- ROA and Profit Margin have a XXX correlation (XXX), indicating XXX.\n",
        "\n",
        "### Time Series Analysis\n",
        "- Financial performance shows XXX trend over time, with XXX periods showing stronger performance.\n",
        "- Seasonal patterns indicate that XXX months typically have higher revenue and profit.\n",
        "- The ROA fluctuates throughout the year, with peaks in XXX and troughs in XXX.\n",
        "\n",
        "### Segment-Product Analysis\n",
        "- XXX products are most popular in the XXX segment.\n",
        "- The XXX segment has the highest profit margin for XXX products.\n",
        "- The combination of XXX segment and XXX product yields the highest average profit.\n",
        "\n",
        "### Profit Margin Analysis\n",
        "- The overall average profit margin is XXX%.\n",
        "- XXX segment has the highest profit margin at XXX%.\n",
        "- XXX products have the highest profit margin at XXX%.\n",
        "- XXX countries show the highest profit margins, suggesting more favorable market conditions or pricing strategies in these regions.\n",
        "\n",
        "### Revenue-Cost-Profit Relationship\n",
        "- The relationship between Revenue and Cost is XXX, with most data points falling XXX the break-even line.\n",
        "- Higher Revenue generally leads to higher Profit, but the relationship is not perfectly linear, indicating variations in cost structures across different segments, products, or regions.\n",
        "\n",
        "### Recommendations\n",
        "- Focus on expanding the XXX segment in XXX countries, as they show the highest profit margins.\n",
        "- Consider optimizing the cost structure for XXX products to improve profitability.\n",
        "- Investigate the factors contributing to the high ROA in XXX segment to potentially apply similar strategies in other segments.\n",
        "- Develop targeted marketing strategies for XXX products in XXX segment, as this combination yields the highest average profit.\n",
        "- Address the seasonal fluctuations by implementing dynamic pricing strategies during low-performance months.\n",
        "- Investigate outliers in the Revenue and Cost distributions to understand exceptional cases and potential opportunities or risks.\n",
        "- Consider portfolio diversification by increasing focus on high-margin products across different segments.\n",
        "- Develop region-specific strategies based on the varying profit margins across countries."
       ]
      },
      {
       "cell_type": "markdown",
       "metadata": {},
       "source": [
        "## 11. Additional Analysis: Revenue and Profit Quartiles\n",
        "\n",
        "Let's segment our data into quartiles based on Revenue and Profit to better understand the distribution of financial performance."
       ]
      },
      {
       "cell_type": "code",
       "execution_count": null,
       "metadata": {},
       "source": [
        "# Create Revenue quartiles\n",
        "df['Revenue_Quartile'] = pd.qcut(df['Revenue'], 4, labels=['Q1 (Low)', 'Q2', 'Q3', 'Q4 (High)'])\n",
        "\n",
        "# Create Profit quartiles\n",
        "df['Profit_Quartile'] = pd.qcut(df['Profit'], 4, labels=['Q1 (Low)', 'Q2', 'Q3', 'Q4 (High)'])\n",
        "\n",
        "# Display the count of records in each quartile\n",
        "print(\"Revenue Quartile Distribution:\")\n",
        "print(df['Revenue_Quartile'].value_counts())\n",
        "\n",
        "print(\"\\nProfit Quartile Distribution:\")\n",
        "print(df['Profit_Quartile'].value_counts())"
       ]
      },
      {
       "cell_type": "code",
       "execution_count": null,
       "metadata": {},
       "source": [
        "# Analyze average metrics by Revenue quartile\n",
        "revenue_quartile_analysis = df.groupby('Revenue_Quartile').agg({\n",
        "    'Revenue': 'mean',\n",
        "    'Cost': 'mean',\n",
        "    'Profit': 'mean',\n",
        "    'Profit_Margin': 'mean',\n",
        "    'ROA': 'mean'\n",
        "})\n",
        "\n",
        "print(\"Analysis by Revenue Quartile:\")\n",
        "revenue_quartile_analysis"
       ]
      },
      {
       "cell_type": "code",
       "execution_count": null,
       "metadata": {},
       "source": [
        "# Visualize metrics by Revenue quartile\n",
        "plt.figure(figsize=(14, 10))\n",
        "\n",
        "# Profit by Revenue quartile\n",
        "plt.subplot(2, 2, 1)\n",
        "sns.barplot(x='Revenue_Quartile', y='Profit', data=df)\n",
        "plt.title('Average Profit by Revenue Quartile')\n",
        "plt.ylabel('Profit ($)')\n",
        "plt.grid(axis='y')\n",
        "\n",
        "# Profit Margin by Revenue quartile\n",
        "plt.subplot(2, 2, 2)\n",
        "sns.barplot(x='Revenue_Quartile', y='Profit_Margin', data=df)\n",
        "plt.title('Average Profit Margin by Revenue Quartile')\n",
        "plt.ylabel('Profit Margin')\n",
        "plt.grid(axis='y')\n",
        "\n",
        "# ROA by Revenue quartile\n",
        "plt.subplot(2, 2, 3)\n",
        "sns.barplot(x='Revenue_Quartile', y='ROA', data=df)\n",
        "plt.title('Average ROA by Revenue Quartile')\n",
        "plt.ylabel('ROA')\n",
        "plt.grid(axis='y')\n",
        "\n",
        "# Cost by Revenue quartile\n",
        "plt.subplot(2, 2, 4)\n",
        "sns.barplot(x='Revenue_Quartile', y='Cost', data=df)\n",
        "plt.title('Average Cost by Revenue Quartile')\n",
        "plt.ylabel('Cost ($)')\n",
        "plt.grid(axis='y')\n",
        "\n",
        "plt.tight_layout()\n",
        "plt.savefig('../results/plots/metrics_by_revenue_quartile.png')\n",
        "plt.show()"
       ]
      },
      {
       "cell_type": "code",
       "execution_count": null,
       "metadata": {},
       "source": [
        "# Analyze segment distribution across Revenue quartiles\n",
        "segment_revenue_quartile = pd.crosstab(df['Segment'], df['Revenue_Quartile'], normalize='index') * 100\n",
        "\n",
        "# Display the percentage distribution\n",
        "print(\"Segment Distribution Across Revenue Quartiles (%):\\n\")\n",
        "segment_revenue_quartile"
       ]
      },
      {
       "cell_type": "code",
       "execution_count": null,
       "metadata": {},
       "source": [
        "# Visualize segment distribution across Revenue quartiles\n",
        "plt.figure(figsize=(14, 8))\n",
        "segment_revenue_quartile.plot(kind='bar', stacked=True)\n",
        "plt.title('Segment Distribution Across Revenue Quartiles')\n",
        "plt.xlabel('Segment')\n",
        "plt.ylabel('Percentage (%)')\n",
        "plt.legend(title='Revenue Quartile')\n",
        "plt.grid(axis='y')\n",
        "plt.tight_layout()\n",
        "plt.savefig('../results/plots/segment_revenue_quartile_distribution.png')\n",
        "plt.show()"
       ]
      },
      {
       "cell_type": "code",
       "execution_count": null,
       "metadata": {},
       "source": [
        "# Create a cross-tabulation of Revenue and Profit quartiles\n",
        "revenue_profit_quartile = pd.crosstab(df['Revenue_Quartile'], df['Profit_Quartile'])\n",
        "\n",
        "# Display the cross-tabulation\n",
        "print(\"Revenue-Profit Quartile Cross-tabulation:\\n\")\n",
        "revenue_profit_quartile"
       ]
      },
      {
       "cell_type": "code",
       "execution_count": null,
       "metadata": {},
       "source": [
        "# Visualize the Revenue-Profit quartile relationship with a heatmap\n",
        "plt.figure(figsize=(10, 8))\n",
        "sns.heatmap(revenue_profit_quartile, annot=True, cmap='viridis', fmt='d')\n",
        "plt.title('Revenue-Profit Quartile Relationship')\n",
        "plt.tight_layout()\n",
        "plt.savefig('../results/plots/revenue_profit_quartile_heatmap.png')\n",
        "plt.show()"
       ]
      },
      {
       "cell_type": "markdown",
       "metadata": {},
       "source": [
        "## 12. Export Key Findings for Reporting\n",
        "\n",
        "Let's export some key findings and visualizations for use in reports."
       ]
      },
      {
       "cell_type": "code",
       "execution_count": null,
       "metadata": {},
       "source": [
        "# Create a summary DataFrame for key metrics by segment\n",
        "segment_summary = df.groupby('Segment').agg({\n",
        "    'Revenue': 'mean',\n",
        "    'Cost': 'mean',\n",
        "    'Profit': 'mean',\n",
        "    'Profit_Margin': 'mean',\n",
        "    'ROA': 'mean',\n",
        "    'Segment': 'count'\n",
        "}).rename(columns={'Segment': 'Count'}).sort_values('Profit', ascending=False)\n",
        "\n",
        "# Export to CSV\n",
        "segment_summary.to_csv('../results/reports/segment_performance_summary.csv')\n",
        "\n",
        "# Create a summary DataFrame for key metrics by country (top 20)\n",
        "country_summary = df.groupby('Country').agg({\n",
        "    'Revenue': 'mean',\n",
        "    'Cost': 'mean',\n",
        "    'Profit': 'mean',\n",
        "    'Profit_Margin': 'mean',\n",
        "    'ROA': 'mean',\n",
        "    'Country': 'count'\n",
        "}).rename(columns={'Country': 'Count'}).sort_values('Profit', ascending=False).head(20)\n",
        "\n",
        "# Export to CSV\n",
        "country_summary.to_csv('../results/reports/country_performance_summary.csv')\n",
        "\n",
        "# Create a summary DataFrame for key metrics by product (top 20)\n",
        "product_summary = df.groupby('Product').agg({\n",
        "    'Revenue': 'mean',\n",
        "    'Cost': 'mean',\n",
        "    'Profit': 'mean',\n",
        "    'Profit_Margin': 'mean',\n",
        "    'ROA': 'mean',\n",
        "    'Product': 'count'\n",
        "}).rename(columns={'Product': 'Count'}).sort_values('Profit', ascending=False).head(20)\n",
        "\n",
        "# Export to CSV\n",
        "product_summary.to_csv('../results/reports/product_performance_summary.csv')\n",
        "\n",
        "print(\"Summary reports exported to the 'results/reports' directory.\")"
       ]
      },
      {
       "cell_type": "code",
       "execution_count": null,
       "metadata": {},
       "source": [
        "# Create a comprehensive correlation matrix and export it\n",
        "correlation_matrix.to_csv('../results/reports/correlation_matrix.csv')\n",
        "\n",
        "# Export the list of highly correlated pairs\n",
        "high_corr_df = pd.DataFrame(high_corr_pairs, columns=['Variable 1', 'Variable 2', 'Correlation'])\n",
        "high_corr_df.to_csv('../results/reports/highly_correlated_pairs.csv', index=False)\n",
        "\n",
        "print(\"Correlation analysis exported to the 'results/reports' directory.\")"
       ]
      },
      {
       "cell_type": "markdown",
       "metadata": {},
       "source": [
        "## 13. Conclusion\n",
        "\n",
        "In this notebook, we performed a comprehensive exploratory data analysis of the financial dataset. We examined summary statistics, distributions, segment/region trends, correlations, and time series patterns. The analysis revealed several key insights about the financial performance across different segments, products, and countries.\n",
        "\n",
        "Key findings include:\n",
        "- The distribution of financial metrics (Revenue, Cost, Profit) is right-skewed, indicating a concentration of high-value transactions.\n",
        "- There are strong correlations between Revenue, Cost, and Profit, with Revenue and Cost showing the strongest relationship.\n",
        "- Segment performance varies significantly, with some segments showing higher profitability and efficiency (ROA) than others.\n",
        "- Country and product analyses revealed specific high-performing markets and products that could be targeted for growth.\n",
        "- The relationship between Revenue quartiles and Profit quartiles shows that high revenue doesn't always translate to high profit, highlighting the importance of cost management.\n",
        "\n",
        "These insights can inform strategic decisions related to market focus, product development, pricing strategies, and resource allocation. The next steps would involve deeper statistical analysis, predictive modeling, and targeted recommendations based on these findings."
       ]
      }
     ],
     "metadata": {
      "kernelspec": {
       "display_name": "Python 3",
       "language": "python",
       "name": "python3"
      },
      "language_info": {
       "codemirror_mode": {
        "name": "ipython",
        "version": 3
       },
       "file_extension": ".py",
       "mimetype": "text/x-python",
       "name": "python",
       "nbconvert_exporter": "python",
       "pygments_lexer": "ipython3",
       "version": "3.8.10"
      }
     },
     "nbformat": 4,
     "nbformat_minor": 4
    }
    
    
    
   