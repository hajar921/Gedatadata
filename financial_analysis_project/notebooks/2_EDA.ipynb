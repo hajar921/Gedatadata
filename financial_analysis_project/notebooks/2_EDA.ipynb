{
 "cells": [
  {
   "cell_type": "markdown",
   "metadata": {},
   "source": [
    "# Exploratory Data Analysis (EDA)\n",
    "\n",
    "This notebook focuses on exploring the cleaned financial data to identify patterns, trends, and relationships between variables."
   ]
  },
  {
   "cell_type": "code",
   "execution_count": null,
   "metadata": {},
   "outputs": [],
   "source": [
    "# Cell 1: Import libraries\n",
    "import pandas as pd\n",
    "import numpy as np\n",
    "import matplotlib.pyplot as plt\n",
    "import seaborn as sns\n",
    "import sys\n",
    "import os\n",
    "\n",
    "# Set plot styling\n",
    "try:\n",
    "    plt.style.use('seaborn-v0_8-whitegrid')  # For newer matplotlib versions\n",
    "except:\n",
    "    try:\n",
    "        plt.style.use('seaborn-whitegrid')  # For older versions\n",
    "    except:\n",
    "        print(\"Default style used as seaborn-whitegrid not available\")\n",
    "        \n",
    "sns.set_palette('viridis')\n",
    "plt.rcParams['figure.figsize'] = (12, 8)\n",
    "plt.rcParams['font.size'] = 12\n",
    "\n",
    "# Add the src directory to the path\n",
    "sys.path.append(os.path.abspath('../src'))\n",
    "\n",
    "# Import custom modules\n",
    "from data_loader import load_raw_data\n",
    "from eda_utils import generate_summary_statistics, plot_distribution, plot_correlation_matrix, plot_boxplot, plot_time_series\n",
    "\n",
    "# Create results directory if it doesn't exist\n",
    "os.makedirs('../results/plots', exist_ok=True)\n"
   ]
  },
  {
   "cell_type": "markdown",
   "metadata": {},
   "source": [
    "## 1. Load the Cleaned Data"
   ]
  },
  {
   "cell_type": "code",
   "execution_count": null,
   "metadata": {},
   "outputs": [],
   "source": [
    "# Load the cleaned data\n",
    "cleaned_data_path = '../data/processed/cleaned_data.csv'\n",
    "df = pd.read_csv(cleaned_data_path)\n",
    "\n",
    "# Strip spaces from column names\n",
    "df.columns = df.columns.str.strip()\n",
    "\n",
    "# Create a mapping for columns with spaces (if needed)\n",
    "column_mapping = {}\n",
    "for col in df.columns:\n",
    "    if ' ' in col:\n",
    "        new_col = col.replace(' ', '_')\n",
    "        column_mapping[col] = new_col\n",
    "df = df.rename(columns=column_mapping)\n",
    "\n",
    "# Print the mapping for reference\n",
    "if column_mapping:\n",
    "    print(\"Columns renamed to replace spaces with underscores:\")\n",
    "    for old, new in column_mapping.items():\n",
    "        print(f\"  '{old}' → '{new}'\")\n",
    "\n",
    "# Clean financial columns (Sales, COGS, Profit) by removing $, commas, and spaces\n",
    "financial_cols = ['Sales', 'COGS', 'Profit']\n",
    "for col in financial_cols:\n",
    "    # Convert to string and remove non-numeric characters (except decimals)\n",
    "    df[col] = df[col].astype(str).str.replace(r'[^0-9.]', '', regex=True)\n",
    "    \n",
    "    # Replace empty strings with NaN\n",
    "    df[col] = df[col].replace('', np.nan)\n",
    "    \n",
    "    # Convert to numeric, coercing invalid entries to NaN\n",
    "    df[col] = pd.to_numeric(df[col], errors='coerce')\n",
    "\n",
    "# Drop rows with NaN in financial columns (or fill as needed)\n",
    "df = df.dropna(subset=financial_cols)\n",
    "\n",
    "# Verify data types\n",
    "print(\"\\nData Types After Cleaning:\")\n",
    "print(df[financial_cols].dtypes)\n",
    "\n",
    "# Print cleaned columns for verification\n",
    "print(\"\\nCleaned Financial Columns (First 5 Rows):\")\n",
    "print(df[financial_cols].head())\n",
    "\n",
    "# Display basic information\n",
    "print(f\"\\nDataset Shape: {df.shape}\")\n",
    "print(f\"\\nColumns: {df.columns.tolist()}\")\n",
    "print(\"\\nFull Data Types:\")\n",
    "print(df.dtypes)\n",
    "df.head()"
   ]
  },
  {
   "cell_type": "markdown",
   "metadata": {},
   "source": [
    "## 2. Summary Statistics\n",
    "\n",
    "Let's compute summary statistics for the key financial metrics: Revenue, Cost, and Profit."
   ]
  },
  {
   "cell_type": "code",
   "execution_count": null,
   "metadata": {},
   "outputs": [],
   "source": [
    "# Cell 3: Summary Statistics\n",
    "# Calculate summary statistics for financial metrics\n",
    "financial_cols = ['Sales', 'COGS', 'Profit']\n",
    "financial_summary = df[financial_cols].describe()\n",
    "\n",
    "# Display the summary statistics\n",
    "print(\"Summary Statistics for Financial Metrics:\")\n",
    "financial_summary\n"
   ]
  },
  {
   "cell_type": "code",
   "execution_count": null,
   "metadata": {},
   "outputs": [],
   "source": [
    "# Cell 4: Additional Statistics\n",
    "# Calculate additional statistics\n",
    "for col in financial_cols:\n",
    "    print(f\"\\n{col} Statistics:\")\n",
    "    print(f\"Median: ${df[col].median():,.2f}\")\n",
    "    print(f\"Mean: ${df[col].mean():,.2f}\")\n",
    "    print(f\"Standard Deviation: ${df[col].std():,.2f}\")\n",
    "    print(f\"Minimum: ${df[col].min():,.2f}\")\n",
    "    print(f\"Maximum: ${df[col].max():,.2f}\")\n",
    "    print(f\"Range: ${df[col].max() - df[col].min():,.2f}\")\n",
    "    print(f\"Interquartile Range (IQR): ${df[col].quantile(0.75) - df[col].quantile(0.25):,.2f}\")\n",
    "    print(f\"Skewness: {df[col].skew():,.2f}\")\n",
    "    print(f\"Kurtosis: {df[col].kurtosis():,.2f}\")\n"
   ]
  },
  {
   "cell_type": "markdown",
   "metadata": {},
   "source": [
    "### Calculate Return on Assets (ROA)\n"
   ]
  },
  {
   "cell_type": "code",
   "execution_count": null,
   "metadata": {},
   "outputs": [],
   "source": [
    "# Cell 5: Calculate Return on Assets (ROA)\n",
    "# Calculate ROA using COGS as a proxy for assets\n",
    "df['ROA'] = df['Profit'] / df['COGS']\n",
    "\n",
    "# Handle potential division by zero or infinity\n",
    "df['ROA'] = df['ROA'].replace([np.inf, -np.inf], np.nan).fillna(0)\n",
    "\n",
    "# Display ROA summary statistics\n",
    "print(\"ROA (Return on Assets) Summary Statistics:\")\n",
    "df['ROA'].describe()\n"
   ]
  },
  {
   "cell_type": "markdown",
   "metadata": {},
   "source": [
    "## 3. Distribution Analysis\n",
    "\n",
    "Let's visualize the distributions of our key financial metrics: Sales, COGS, Profit, and ROA."
   ]
  },
  {
   "cell_type": "code",
   "execution_count": null,
   "metadata": {},
   "outputs": [],
   "source": [
    "# Cell 6: Distribution Analysis\n",
    "# Plot distributions for financial metrics\n",
    "for col in ['Sales', 'COGS', 'Profit', 'ROA']:\n",
    "    plt.figure(figsize=(12, 6))\n",
    "    \n",
    "    # Create subplot with 1 row and 2 columns\n",
    "    plt.subplot(1, 2, 1)\n",
    "    sns.histplot(df[col], kde=True)\n",
    "    plt.title(f'Distribution of {col}')\n",
    "    plt.axvline(df[col].mean(), color='red', linestyle='--', label=f'Mean: {df[col].mean():.2f}')\n",
    "    plt.axvline(df[col].median(), color='green', linestyle='--', label=f'Median: {df[col].median():.2f}')\n",
    "    plt.legend()\n",
    "    \n",
    "    # Add boxplot\n",
    "    plt.subplot(1, 2, 2)\n",
    "    sns.boxplot(y=df[col])\n",
    "    plt.title(f'Boxplot of {col}')\n",
    "    \n",
    "    plt.tight_layout()\n",
    "    plt.savefig(f'../results/plots/{col}_distribution.png')\n",
    "    plt.show()\n"
   ]
  },
  {
   "cell_type": "code",
   "execution_count": null,
   "metadata": {},
   "outputs": [],
   "source": [
    "# Cell 7: Check for outliers\n",
    "# Check for outliers using IQR method\n",
    "def identify_outliers(df, column):\n",
    "    Q1 = df[column].quantile(0.25)\n",
    "    Q3 = df[column].quantile(0.75)\n",
    "    IQR = Q3 - Q1\n",
    "    \n",
    "    lower_bound = Q1 - 1.5 * IQR\n",
    "    upper_bound = Q3 + 1.5 * IQR\n",
    "    \n",
    "    outliers = df[(df[column] < lower_bound) | (df[column] > upper_bound)]\n",
    "    return outliers, lower_bound, upper_bound\n",
    "\n",
    "# Identify outliers for each financial metric\n",
    "for col in ['Sales', 'COGS', 'Profit', 'ROA']:\n",
    "    outliers, lower_bound, upper_bound = identify_outliers(df, col)\n",
    "    print(f\"\\nOutliers in {col}:\")\n",
    "    print(f\"Number of outliers: {len(outliers)}\")\n",
    "    print(f\"Percentage of outliers: {len(outliers) / len(df) * 100:.2f}%\")\n",
    "    print(f\"Lower bound: {lower_bound:.2f}\")\n",
    "    print(f\"Upper bound: {upper_bound:.2f}\")\n",
    "    \n",
    "    if len(outliers) > 0:\n",
    "        print(\"\\nSample of outliers:\")\n",
    "        print(outliers.head(5))\n"
   ]
  },
  {
   "cell_type": "markdown",
   "metadata": {},
   "source": [
    "## 4. Sector/Region Trends\n",
    "\n",
    "Let's analyze trends across different segments and countries."
   ]
  },
  {
   "cell_type": "code",
   "execution_count": null,
   "metadata": {},
   "outputs": [],
   "source": [
    "# Cell 8: Segment Analysis\n",
    "# Group by Segment and calculate average metrics\n",
    "segment_analysis = df.groupby('Segment').agg({\n",
    "    'Sales': 'mean',\n",
    "    'COGS': 'mean',\n",
    "    'Profit': 'mean',\n",
    "    'ROA': 'mean',\n",
    "    'Segment': 'count'\n",
    "}).rename(columns={'Segment': 'Count'}).sort_values('Profit', ascending=False)\n",
    "\n",
    "print(\"Segment Analysis:\")\n",
    "segment_analysis\n"
   ]
  },
  {
   "cell_type": "code",
   "execution_count": null,
   "metadata": {},
   "outputs": [],
   "source": [
    "# Cell 9: Visualize segment performance\n",
    "# Visualize segment performance\n",
    "plt.figure(figsize=(14, 8))\n",
    "\n",
    "# Create a bar plot for average profit by segment\n",
    "plt.subplot(1, 2, 1)\n",
    "sns.barplot(x=segment_analysis.index, y='Profit', data=segment_analysis)\n",
    "plt.title('Average Profit by Segment')\n",
    "plt.xticks(rotation=45)\n",
    "plt.ylabel('Average Profit ($)')\n",
    "\n",
    "# Create a bar plot for ROA by segment\n",
    "plt.subplot(1, 2, 2)\n",
    "sns.barplot(x=segment_analysis.index, y='ROA', data=segment_analysis)\n",
    "plt.title('Average ROA by Segment')\n",
    "plt.xticks(rotation=45)\n",
    "plt.ylabel('Average ROA')\n",
    "\n",
    "plt.tight_layout()\n",
    "plt.savefig('../results/plots/segment_performance.png')\n",
    "plt.show()\n"
   ]
  },
  {
   "cell_type": "code",
   "execution_count": null,
   "metadata": {},
   "outputs": [],
   "source": [
    "# Cell 10: Country Analysis\n",
    "# Group by Country and calculate average metrics\n",
    "country_analysis = df.groupby('Country').agg({\n",
    "    'Sales': 'mean',\n",
    "    'COGS': 'mean',\n",
    "    'Profit': 'mean',\n",
    "    'ROA': 'mean',\n",
    "    'Country': 'count'\n",
    "}).rename(columns={'Country': 'Count'}).sort_values('Profit', ascending=False)\n",
    "\n",
    "print(\"Country Analysis:\")\n",
    "country_analysis.head(10)  # Show top 10 countries by profit\n"
   ]
  },
  {
   "cell_type": "code",
   "execution_count": null,
   "metadata": {},
   "outputs": [],
   "source": [
    "# Cell 11: Visualize country performance\n",
    "# Visualize country performance (top 10 countries by profit)\n",
    "top_countries = country_analysis.head(10)\n",
    "\n",
    "plt.figure(figsize=(14, 8))\n",
    "\n",
    "# Create a bar plot for average profit by country\n",
    "plt.subplot(1, 2, 1)\n",
    "sns.barplot(x=top_countries.index, y='Profit', data=top_countries)\n",
    "plt.title('Average Profit by Country (Top 10)')\n",
    "plt.xticks(rotation=45)\n",
    "plt.ylabel('Average Profit ($)')\n",
    "\n",
    "# Create a bar plot for ROA by country\n",
    "plt.subplot(1, 2, 2)\n",
    "sns.barplot(x=top_countries.index, y='ROA', data=top_countries)\n",
    "plt.title('Average ROA by Country (Top 10)')\n",
    "plt.xticks(rotation=45)\n",
    "plt.ylabel('Average ROA')\n",
    "\n",
    "plt.tight_layout()\n",
    "plt.savefig('../results/plots/country_performance.png')\n",
    "plt.show()\n"
   ]
  },
  {
   "cell_type": "code",
   "execution_count": null,
   "metadata": {},
   "outputs": [],
   "source": [
    "# Cell 12: Cross-tabulation of Segment and Country\n",
    "# Cross-tabulation of Segment and Country\n",
    "# Let's see which segments are most common in which countries\n",
    "segment_country_crosstab = pd.crosstab(df['Segment'], df['Country'])\n",
    "\n",
    "# Display the cross-tabulation\n",
    "print(\"Segment-Country Cross-tabulation:\")\n",
    "segment_country_crosstab.head()\n"
   ]
  },
  {
   "cell_type": "code",
   "execution_count": null,
   "metadata": {},
   "outputs": [],
   "source": [
    "# Cell 13: Visualize segment-country relationship\n",
    "# Visualize the segment-country relationship with a heatmap\n",
    "plt.figure(figsize=(16, 10))\n",
    "sns.heatmap(segment_country_crosstab.iloc[:, :10], annot=True, cmap='viridis', fmt='d')\n",
    "plt.title('Segment-Country Distribution (Top 10 Countries)')\n",
    "plt.tight_layout()\n",
    "plt.savefig('../results/plots/segment_country_heatmap.png')\n",
    "plt.show()\n"
   ]
  },
  {
   "cell_type": "code",
   "execution_count": null,
   "metadata": {},
   "outputs": [],
   "source": [
    "# Cell 14: Product Analysis\n",
    "# Group by Product and calculate average metrics\n",
    "product_analysis = df.groupby('Product').agg({\n",
    "    'Sales': 'mean',\n",
    "    'COGS': 'mean',\n",
    "    'Profit': 'mean',\n",
    "    'ROA': 'mean',\n",
    "    'Product': 'count'\n",
    "}).rename(columns={'Product': 'Count'}).sort_values('Profit', ascending=False)\n",
    "\n",
    "print(\"Product Analysis:\")\n",
    "product_analysis.head(10)  # Show top 10 products by profit\n"
   ]
  },
  {
   "cell_type": "code",
   "execution_count": null,
   "metadata": {},
   "outputs": [],
   "source": [
    "# Cell 15: Visualize product performance\n",
    "# Visualize product performance (top 10 products by profit)\n",
    "top_products = product_analysis.head(10)\n",
    "\n",
    "plt.figure(figsize=(14, 8))\n",
    "\n",
    "# Create a bar plot for average profit by product\n",
    "plt.subplot(1, 2, 1)\n",
    "sns.barplot(x=top_products.index, y='Profit', data=top_products)\n",
    "plt.title('Average Profit by Product (Top 10)')\n",
    "plt.xticks(rotation=45)\n",
    "plt.ylabel('Average Profit ($)')\n",
    "\n",
    "# Create a bar plot for ROA by product\n",
    "plt.subplot(1, 2, 2)\n",
    "sns.barplot(x=top_products.index, y='ROA', data=top_products)\n",
    "plt.title('Average ROA by Product (Top 10)')\n",
    "plt.xticks(rotation=45)\n",
    "plt.ylabel('Average ROA')\n",
    "\n",
    "plt.tight_layout()\n",
    "plt.savefig('../results/plots/product_performance.png')\n",
    "plt.show()\n"
   ]
  },
  {
   "cell_type": "markdown",
   "metadata": {},
   "source": [
    "## 5. Correlation Analysis\n",
    "\n",
    "Let's analyze the correlations between our numeric variables."
   ]
  },
  {
   "cell_type": "code",
   "execution_count": null,
   "metadata": {},
   "outputs": [],
   "source": [
    "# Cell 16: Correlation Analysis\n",
    "# Select numeric columns for correlation analysis\n",
    "numeric_cols = df.select_dtypes(include=['number']).columns.tolist()\n",
    "print(f\"Numeric columns: {numeric_cols}\")\n",
    "\n",
    "# Calculate correlation matrix\n",
    "correlation_matrix = df[numeric_cols].corr()\n",
    "\n",
    "# Display the correlation matrix\n",
    "print(\"\\nCorrelation Matrix:\")\n",
    "correlation_matrix\n"
   ]
  },
  {
   "cell_type": "code",
   "execution_count": null,
   "metadata": {},
   "outputs": [],
   "source": [
    "# Cell 17: Visualize correlation matrix\n",
    "# Visualize the correlation matrix with a heatmap\n",
    "plt.figure(figsize=(12, 10))\n",
    "sns.heatmap(correlation_matrix, annot=True, cmap='coolwarm', fmt='.2f', linewidths=0.5)\n",
    "plt.title('Correlation Matrix of Numeric Variables')\n",
    "plt.tight_layout()\n",
    "plt.savefig('../results/plots/correlation_matrix.png')\n",
    "plt.show()\n"
   ]
  },
  {
   "cell_type": "code",
   "execution_count": null,
   "metadata": {},
   "outputs": [],
   "source": [
    "# Cell 18: Identify highly correlated pairs\n",
    "# Identify highly correlated pairs\n",
    "def get_highly_correlated_pairs(corr_matrix, threshold=0.5):\n",
    "    # Get the upper triangle of the correlation matrix\n",
    "    upper = corr_matrix.where(np.triu(np.ones(corr_matrix.shape), k=1).astype(bool))\n",
    "    \n",
    "    # Find pairs with correlation greater than threshold\n",
    "    high_corr_pairs = []\n",
    "    for col in upper.columns:\n",
    "        for idx in upper.index:\n",
    "            if abs(upper.loc[idx, col]) > threshold:\n",
    "                high_corr_pairs.append((idx, col, upper.loc[idx, col]))\n",
    "    \n",
    "    # Sort by absolute correlation value\n",
    "    high_corr_pairs.sort(key=lambda x: abs(x[2]), reverse=True)\n",
    "    return high_corr_pairs\n",
    "\n",
    "# Get highly correlated pairs\n",
    "high_corr_pairs = get_highly_correlated_pairs(correlation_matrix, threshold=0.5)\n",
    "\n",
    "# Display the highly correlated pairs\n",
    "print(\"Highly Correlated Pairs (|correlation| > 0.5):\")\n",
    "for var1, var2, corr in high_corr_pairs:\n",
    "    print(f\"{var1} and {var2}: {corr:.2f}\")\n"
   ]
  },
  {
   "cell_type": "code",
   "execution_count": null,
   "metadata": {},
   "outputs": [],
   "source": [
    "# Cell 19: Visualize highly correlated pairs\n",
    "# Visualize the relationships between highly correlated pairs\n",
    "for var1, var2, corr in high_corr_pairs[:5]:  # Plot top 5 correlated pairs\n",
    "    plt.figure(figsize=(12, 6))\n",
    "    \n",
    "    # Create scatter plot\n",
    "    plt.subplot(1, 2, 1)\n",
    "    sns.scatterplot(x=df[var1], y=df[var2])\n",
    "    plt.title(f'Scatter Plot: {var1} vs {var2} (corr={corr:.2f})')\n",
    "    plt.xlabel(var1)\n",
    "    plt.ylabel(var2)\n",
    "    \n",
    "    # Add regression line\n",
    "    plt.subplot(1, 2, 2)\n",
    "    sns.regplot(x=df[var1], y=df[var2])\n",
    "    plt.title(f'Regression Plot: {var1} vs {var2} (corr={corr:.2f})')\n",
    "    plt.xlabel(var1)\n",
    "    plt.ylabel(var2)\n",
    "    \n",
    "    plt.tight_layout()\n",
    "    plt.savefig(f'../results/plots/correlation_{var1}_{var2}.png')\n",
    "    plt.show()\n"
   ]
  },
  {
   "cell_type": "markdown",
   "metadata": {},
   "source": [
    "## 7. Segment-Product Analysis\n",
    "\n",
    "Let's analyze the relationship between segments and products."
   ]
  },
  {
   "cell_type": "code",
   "execution_count": null,
   "metadata": {},
   "outputs": [],
   "source": [
    "# Cross-tabulation of Segment and Product\n",
    "segment_product_crosstab = pd.crosstab(df['Segment'], df['Product'])\n",
    "\n",
    "# Display the cross-tabulation\n",
    "print(\"Segment-Product Cross-tabulation:\")\n",
    "segment_product_crosstab.head()"
   ]
  },
  {
   "cell_type": "code",
   "execution_count": null,
   "metadata": {},
   "outputs": [],
   "source": [
    "# Visualize the segment-product relationship with a heatmap\n",
    "# If there are many products, select the top ones by frequency\n",
    "top_products = df['Product'].value_counts().head(10).index.tolist()\n",
    "segment_top_products = segment_product_crosstab[top_products]\n",
    "\n",
    "plt.figure(figsize=(16, 10))\n",
    "sns.heatmap(segment_top_products, annot=True, cmap='viridis', fmt='d')\n",
    "plt.title('Segment-Product Distribution (Top 10 Products)')\n",
    "plt.tight_layout()\n",
    "plt.savefig('../results/plots/segment_product_heatmap.png')\n",
    "plt.show()"
   ]
  },
  {
   "cell_type": "code",
   "execution_count": null,
   "metadata": {},
   "outputs": [],
   "source": [
    "# Calculate average profit by segment and product\n",
    "segment_product_profit = df.pivot_table(\n",
    "    values='Profit',\n",
    "    index='Segment',\n",
    "    columns='Product',\n",
    "    aggfunc='mean'\n",
    ")\n",
    "\n",
    "# Select top products for visualization\n",
    "segment_product_profit_top = segment_product_profit[top_products]\n",
    "\n",
    "# Visualize average profit by segment and product\n",
    "plt.figure(figsize=(16, 10))\n",
    "sns.heatmap(segment_product_profit_top, annot=True, cmap='RdYlGn', fmt='.2f')\n",
    "plt.title('Average Profit by Segment and Product')\n",
    "plt.tight_layout()\n",
    "plt.savefig('../results/plots/segment_product_profit.png')\n",
    "plt.show()"
   ]
  },
  {
   "cell_type": "markdown",
   "metadata": {},
   "source": [
    "## 8. Profit Margin Analysis\n",
    "\n",
    "Let's calculate and analyze profit margins across different dimensions."
   ]
  },
  {
   "cell_type": "code",
   "execution_count": null,
   "metadata": {},
   "outputs": [],
   "source": [
    "# Calculate Profit Margin (Sales-based)\n",
    "df['Profit_Margin'] = df['Profit'] / df['Sales']\n",
    "df['Profit_Margin'] = df['Profit_Margin'].replace([np.inf, -np.inf], np.nan).fillna(0)\n",
    "\n",
    "# Display summary\n",
    "print(\"Profit Margin Summary Statistics:\")\n",
    "display(df['Profit_Margin'].describe())"
   ]
  },
  {
   "cell_type": "code",
   "execution_count": null,
   "metadata": {},
   "outputs": [],
   "source": [
    "# Visualize profit margin distribution\n",
    "plt.figure(figsize=(14, 6))\n",
    "plt.subplot(1, 2, 1)\n",
    "sns.histplot(df['Profit_Margin'], kde=True, bins=20)\n",
    "plt.title('Profit Margin Distribution')\n",
    "plt.axvline(df['Profit_Margin'].mean(), color='red', linestyle='--', label=f'Mean: {df[\"Profit_Margin\"].mean():.2%}')\n",
    "plt.xlabel('Profit Margin')\n",
    "plt.legend()\n",
    "\n",
    "plt.subplot(1, 2, 2)\n",
    "sns.boxplot(y=df['Profit_Margin'])\n",
    "plt.title('Profit Margin Boxplot')\n",
    "plt.ylabel('Profit Margin')\n",
    "\n",
    "plt.tight_layout()\n",
    "plt.savefig('../results/plots/profit_margin_distribution.png')\n",
    "plt.show()"
   ]
  },
  {
   "cell_type": "code",
   "execution_count": null,
   "metadata": {},
   "outputs": [],
   "source": [
    "# Analyze profit margin by segment\n",
    "segment_margin = df.groupby('Segment')['Profit_Margin'].mean().sort_values(ascending=False)\n",
    "\n",
    "plt.figure(figsize=(12, 6))\n",
    "sns.barplot(x=segment_margin.index, y=segment_margin.values)\n",
    "plt.title('Average Profit Margin by Segment')\n",
    "plt.xticks(rotation=45)\n",
    "plt.ylabel('Profit Margin (%)')\n",
    "plt.grid(axis='y')\n",
    "plt.tight_layout()\n",
    "plt.savefig('../results/plots/profit_margin_by_segment.png')\n",
    "plt.show()"
   ]
  },
  {
   "cell_type": "code",
   "execution_count": null,
   "metadata": {},
   "outputs": [],
   "source": [
    "# Analyze profit margin by product (top 10 products)\n",
    "product_margin = df.groupby('Product')['Profit_Margin'].mean().sort_values(ascending=False).head(10)\n",
    "\n",
    "plt.figure(figsize=(12, 6))\n",
    "sns.barplot(x=product_margin.index, y=product_margin.values)\n",
    "plt.title('Average Profit Margin by Product (Top 10)')\n",
    "plt.xticks(rotation=45)\n",
    "plt.ylabel('Profit Margin (%)')\n",
    "plt.grid(axis='y')\n",
    "plt.tight_layout()\n",
    "plt.savefig('../results/plots/profit_margin_by_product.png')\n",
    "plt.show()"
   ]
  },
  {
   "cell_type": "code",
   "execution_count": null,
   "metadata": {},
   "outputs": [],
   "source": [
    "# Analyze profit margin by country (top 10 countries)\n",
    "country_margin = df.groupby('Country')['Profit_Margin'].mean().sort_values(ascending=False).head(10)\n",
    "\n",
    "plt.figure(figsize=(12, 6))\n",
    "sns.barplot(x=country_margin.index, y=country_margin.values)\n",
    "plt.title('Average Profit Margin by Country (Top 10)')\n",
    "plt.xticks(rotation=45)\n",
    "plt.ylabel('Profit Margin (%)')\n",
    "plt.grid(axis='y')\n",
    "plt.tight_layout()\n",
    "plt.savefig('../results/plots/profit_margin_by_country.png')\n",
    "plt.show()"
   ]
  },
  {
   "cell_type": "markdown",
   "metadata": {},
   "source": [
    "## 9. Revenue-Cost-Profit Relationship\n",
    "\n",
    "Let's analyze the relationship between Sales, COGS, and Profit."
   ]
  },
  {
   "cell_type": "code",
   "execution_count": null,
   "metadata": {},
   "outputs": [],
   "source": [
    "# Create a scatter plot of Sales vs. COGS, colored by Profit\n",
    "plt.figure(figsize=(12, 8))\n",
    "scatter = plt.scatter(df['Sales'], df['COGS'], c=df['Profit'], cmap='RdYlGn', alpha=0.7)\n",
    "plt.colorbar(scatter, label='Profit ($)')\n",
    "plt.title('Sales vs. COGS (Colored by Profit)')\n",
    "plt.xlabel('Sales ($)')\n",
    "plt.ylabel('COGS ($)')\n",
    "plt.grid(True)\n",
    "\n",
    "# Add break-even line (Sales = COGS)\n",
    "max_val = max(df['Sales'].max(), df['COGS'].max())\n",
    "plt.plot([0, max_val], [0, max_val], 'k--', label='Break-Even Line (Profit=0)')\n",
    "plt.legend()\n",
    "plt.tight_layout()\n",
    "plt.savefig('../results/plots/revenue_cost_profit_relationship.png')\n",
    "plt.show()"
   ]
  },
  {
   "cell_type": "code",
   "execution_count": null,
   "metadata": {},
   "outputs": [],
   "source": [
    "from mpl_toolkits.mplot3d import Axes3D\n",
    "\n",
    "fig = plt.figure(figsize=(14, 10))\n",
    "ax = fig.add_subplot(111, projection='3d')\n",
    "\n",
    "# Sample data for large datasets\n",
    "sample_size = min(1000, len(df))\n",
    "sample_df = df.sample(n=sample_size, random_state=42)\n",
    "\n",
    "# Create 3D scatter plot\n",
    "scatter = ax.scatter(\n",
    "    sample_df['Sales'],\n",
    "    sample_df['COGS'],\n",
    "    sample_df['Profit'],\n",
    "    c=sample_df['Profit_Margin'],\n",
    "    cmap='RdYlGn',\n",
    "    alpha=0.7\n",
    ")\n",
    "\n",
    "ax.set_xlabel('Sales ($)')\n",
    "ax.set_ylabel('COGS ($)')\n",
    "ax.set_zlabel('Profit ($)')\n",
    "ax.set_title('3D Relationship: Sales, COGS, and Profit')\n",
    "ax.view_init(elev=20, azim=45)  # Better angle\n",
    "\n",
    "# Add color bar\n",
    "cbar = fig.colorbar(scatter, ax=ax, pad=0.1)\n",
    "cbar.set_label('Profit Margin (%)')\n",
    "\n",
    "plt.tight_layout()\n",
    "plt.savefig('../results/plots/revenue_cost_profit_3d.png')\n",
    "plt.show()"
   ]
  },
  {
   "cell_type": "markdown",
   "metadata": {},
   "source": [
    "## 11. Additional Analysis: Revenue and Profit Quartiles\n",
    "\n",
    "Let's segment our data into quartiles based on Revenue(Sales) and Profit to better understand the distribution of financial performance."
   ]
  },
  {
   "cell_type": "code",
   "execution_count": null,
   "metadata": {},
   "outputs": [],
   "source": [
    "# Create Revenue quartiles\n",
    "df['Revenue_Quartile'] = pd.qcut(df['Sales'], 4, labels=['Q1 (Low)', 'Q2', 'Q3', 'Q4 (High)'])\n",
    "\n",
    "# Create Profit quartiles\n",
    "df['Profit_Quartile'] = pd.qcut(df['Profit'], 4, labels=['Q1 (Low)', 'Q2', 'Q3', 'Q4 (High)'])\n",
    "\n",
    "# Display the count of records in each quartile\n",
    "print(\"Revenue Quartile Distribution:\")\n",
    "print(df['Revenue_Quartile'].value_counts())\n",
    "\n",
    "print(\"\\nProfit Quartile Distribution:\")\n",
    "print(df['Profit_Quartile'].value_counts())"
   ]
  },
  {
   "cell_type": "code",
   "execution_count": null,
   "metadata": {},
   "outputs": [],
   "source": [
    "# Analyze metrics by Revenue Quartile\n",
    "revenue_quartile_analysis = df.groupby('Revenue_Quartile').agg(\n",
    "    Sales_Mean=('Sales', 'mean'),\n",
    "    COGS_Mean=('COGS', 'mean'),\n",
    "    Profit_Mean=('Profit', 'mean'),\n",
    "    Profit_Margin_Mean=('Profit_Margin', 'mean'),\n",
    "    ROA_Mean=('ROA', 'mean')\n",
    ").round(2)\n",
    "print(\"Revenue Quartile Analysis:\")\n",
    "display(revenue_quartile_analysis)"
   ]
  },
  {
   "cell_type": "code",
   "execution_count": null,
   "metadata": {},
   "outputs": [],
   "source": [
    "# Visualize metrics by Revenue quartile\n",
    "plt.figure(figsize=(14, 10))\n",
    "\n",
    "# Profit by Revenue quartile\n",
    "plt.subplot(2, 2, 1)\n",
    "sns.barplot(x='Revenue_Quartile', y='Profit', data=df)\n",
    "plt.title('Average Profit by Revenue Quartile')\n",
    "plt.ylabel('Profit ($)')\n",
    "plt.grid(axis='y')\n",
    "\n",
    "# Profit Margin by Revenue quartile\n",
    "plt.subplot(2, 2, 2)\n",
    "sns.barplot(x='Revenue_Quartile', y='Profit_Margin', data=df)\n",
    "plt.title('Average Profit Margin by Revenue Quartile')\n",
    "plt.ylabel('Profit Margin')\n",
    "plt.grid(axis='y')\n",
    "\n",
    "# ROA by Revenue quartile\n",
    "plt.subplot(2, 2, 3)\n",
    "sns.barplot(x='Revenue_Quartile', y='ROA', data=df)\n",
    "plt.title('Average ROA by Revenue Quartile')\n",
    "plt.ylabel('ROA')\n",
    "plt.grid(axis='y')\n",
    "\n",
    "# Cost by Revenue quartile\n",
    "plt.subplot(2, 2, 4)\n",
    "sns.barplot(x='Revenue_Quartile', y='COGS', data=df)\n",
    "plt.title('Average Cost by Revenue Quartile')\n",
    "plt.ylabel('Cost ($)')\n",
    "plt.grid(axis='y')\n",
    "\n",
    "plt.tight_layout()\n",
    "plt.savefig('../results/plots/metrics_by_revenue_quartile.png')\n",
    "plt.show()"
   ]
  },
  {
   "cell_type": "code",
   "execution_count": null,
   "metadata": {},
   "outputs": [],
   "source": [
    "# Segment distribution across Revenue Quartiles\n",
    "segment_revenue_quartile = pd.crosstab(\n",
    "    df['Segment'],\n",
    "    df['Revenue_Quartile'],\n",
    "    normalize='index'\n",
    ").mul(100).round(1)\n",
    "\n",
    "print(\"Segment Distribution by Revenue Quartile:\")\n",
    "display(segment_revenue_quartile)"
   ]
  },
  {
   "cell_type": "code",
   "execution_count": null,
   "metadata": {},
   "outputs": [],
   "source": [
    "plt.figure(figsize=(14, 8))\n",
    "segment_revenue_quartile.plot(\n",
    "    kind='bar',\n",
    "    stacked=True,\n",
    "    colormap='viridis'\n",
    ")\n",
    "plt.title('Segment Distribution by Revenue Quartile')\n",
    "plt.xlabel('Segment')\n",
    "plt.ylabel('Percentage (%)')\n",
    "plt.legend(title='Revenue Quartile')\n",
    "plt.grid(axis='y')\n",
    "plt.tight_layout()\n",
    "plt.savefig('../results/plots/segment_revenue_quartile.png')\n",
    "plt.show()"
   ]
  },
  {
   "cell_type": "code",
   "execution_count": null,
   "metadata": {},
   "outputs": [],
   "source": [
    "# Create a cross-tabulation of Revenue and Profit quartiles\n",
    "revenue_profit_quartile = pd.crosstab(df['Revenue_Quartile'], df['Profit_Quartile'])\n",
    "\n",
    "# Display the cross-tabulation\n",
    "print(\"Revenue-Profit Quartile Cross-tabulation:\\n\")\n",
    "revenue_profit_quartile"
   ]
  },
  {
   "cell_type": "code",
   "execution_count": null,
   "metadata": {},
   "outputs": [],
   "source": [
    "# Visualize the Revenue-Profit quartile relationship with a heatmap\n",
    "plt.figure(figsize=(10, 8))\n",
    "sns.heatmap(revenue_profit_quartile, annot=True, cmap='viridis', fmt='d')\n",
    "plt.title('Revenue-Profit Quartile Relationship')\n",
    "plt.tight_layout()\n",
    "plt.savefig('../results/plots/revenue_profit_quartile_heatmap.png')\n",
    "plt.show()"
   ]
  },
  {
   "cell_type": "markdown",
   "metadata": {},
   "source": [
    "## 12. Export Key Findings for Reporting\n",
    "\n",
    "Let's export some key findings and visualizations for use in reports."
   ]
  },
  {
   "cell_type": "code",
   "execution_count": null,
   "metadata": {},
   "outputs": [],
   "source": [
    "# Create a summary DataFrame for key metrics by segment\n",
    "segment_summary = df.groupby('Segment').agg(\n",
    "    Sales_Mean=('Sales', 'mean'),\n",
    "    COGS_Mean=('COGS', 'mean'),\n",
    "    Profit_Mean=('Profit', 'mean'),\n",
    "    Profit_Margin_Mean=('Profit_Margin', 'mean'),\n",
    "    ROA_Mean=('ROA', 'mean'),\n",
    "    Count=('Segment', 'count')\n",
    ").sort_values('Profit_Mean', ascending=False).round(2)\n",
    "\n",
    "# Export to CSV\n",
    "segment_summary.to_csv('../results/reports/segment_performance_summary.csv')\n",
    "\n",
    "# Create a summary DataFrame for key metrics by country (top 20)\n",
    "country_summary = df.groupby('Country').agg(\n",
    "    Sales_Mean=('Sales', 'mean'),\n",
    "    Profit_Mean=('Profit', 'mean'),\n",
    "    Profit_Margin_Mean=('Profit_Margin', 'mean'),\n",
    "    ROA_Mean=('ROA', 'mean'),\n",
    "    Count=('Country', 'count')\n",
    ").sort_values('Profit_Mean', ascending=False).head(20).round(2)\n",
    "\n",
    "# Export to CSV\n",
    "country_summary.to_csv('../results/reports/country_performance_summary.csv')\n",
    "\n",
    "# Create a summary DataFrame for key metrics by product (top 20)\n",
    "product_summary = df.groupby('Product').agg(\n",
    "    Sales_Mean=('Sales', 'mean'),\n",
    "    Profit_Mean=('Profit', 'mean'),\n",
    "    Profit_Margin_Mean=('Profit_Margin', 'mean'),\n",
    "    ROA_Mean=('ROA', 'mean'),\n",
    "    Count=('Product', 'count')\n",
    ").sort_values('Profit_Mean', ascending=False).head(20).round(2)\n",
    "\n",
    "# Export to CSV\n",
    "product_summary.to_csv('../results/reports/product_performance_summary.csv')\n",
    "\n",
    "print(\"Summary reports exported to the 'results/reports' directory.\")"
   ]
  },
  {
   "cell_type": "code",
   "execution_count": null,
   "metadata": {},
   "outputs": [],
   "source": [
    "# Create a comprehensive correlation matrix and export it\n",
    "correlation_matrix.to_csv('../results/reports/correlation_matrix.csv')\n",
    "\n",
    "# Export the list of highly correlated pairs\n",
    "high_corr_df = pd.DataFrame(high_corr_pairs, columns=['Variable 1', 'Variable 2', 'Correlation'])\n",
    "high_corr_df.to_csv('../results/reports/highly_correlated_pairs.csv', index=False)\n",
    "\n",
    "print(\"Correlation analysis exported to the 'results/reports' directory.\")"
   ]
  }
 ],
 "metadata": {
  "kernelspec": {
   "display_name": "Python 3 (ipykernel)",
   "language": "python",
   "name": "python3"
  },
  "language_info": {
   "codemirror_mode": {
    "name": "ipython",
    "version": 3
   },
   "file_extension": ".py",
   "mimetype": "text/x-python",
   "name": "python",
   "nbconvert_exporter": "python",
   "pygments_lexer": "ipython3",
   "version": "3.13.2"
  }
 },
 "nbformat": 4,
 "nbformat_minor": 4
}
